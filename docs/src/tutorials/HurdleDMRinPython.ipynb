{
 "cells": [
  {
   "cell_type": "markdown",
   "metadata": {},
   "source": [
    "# HurdleDMR\n",
    "\n",
    "HurdleDMR.jl is a Julia implementation of the Hurdle Distributed Multinomial Regression (HDMR), as described in:\n",
    "\n",
    "Kelly, Bryan, Asaf Manela, and Alan Moreira (2018). Text Selection. [Working paper](http://apps.olin.wustl.edu/faculty/manela/kmm/textselection/).\n",
    "\n",
    "It includes a Julia implementation of the Distributed Multinomial Regression (DMR) model of [Taddy (2015)](https://arxiv.org/abs/1311.6139).\n",
    "\n",
    "This tutorial explains how to use this package.\n",
    "\n",
    "## Setup\n",
    "\n",
    "### Install Julia\n",
    "\n",
    "First, install Julia itself. The easiest way to do that is from the download site https://julialang.org/downloads/. An alternative is to install JuliaPro from https://juliacomputing.com\n",
    "\n",
    "Once installed, open julia in a terminal (or in Juno), press `]` to activate package manager and add the following packages:\n",
    "```\n",
    "pkg> add HurdleDMR GLM Lasso\n",
    "```\n",
    "\n",
    "### Install PyJulia\n",
    "See the documentation [here](https://github.com/JuliaPy/pyjulia) for installation instructions.\n",
    "\n",
    "Because I use miniconda, I also had to run the following, but you might not:"
   ]
  },
  {
   "cell_type": "code",
   "execution_count": 1,
   "metadata": {},
   "outputs": [],
   "source": [
    "from julia.api import Julia\n",
    "jl = Julia(compiled_modules=False)"
   ]
  },
  {
   "cell_type": "code",
   "execution_count": 4,
   "metadata": {},
   "outputs": [
    {
     "name": "stdout",
     "output_type": "stream",
     "text": [
      "The julia.magic extension is already loaded. To reload it, use:\n",
      "  %reload_ext julia.magic\n"
     ]
    }
   ],
   "source": [
    "%load_ext julia.magic"
   ]
  },
  {
   "cell_type": "markdown",
   "metadata": {},
   "source": [
    "Add parallel workers and make package available to workers"
   ]
  },
  {
   "cell_type": "code",
   "execution_count": 5,
   "metadata": {},
   "outputs": [],
   "source": [
    "%julia using Distributed\n",
    "%julia addprocs(4)\n",
    "%julia import HurdleDMR; @everywhere using HurdleDMR"
   ]
  },
  {
   "cell_type": "markdown",
   "metadata": {},
   "source": [
    "### Example Data\n",
    "\n",
    "Setup your data into an n-by-p covars matrix, and a (sparse) n-by-d counts matrix. Here we generate some random data."
   ]
  },
  {
   "cell_type": "code",
   "execution_count": 65,
   "metadata": {},
   "outputs": [
    {
     "data": {
      "text/plain": [
       "array([[0, 1, 5, 5],\n",
       "       [0, 1, 1, 2],\n",
       "       [0, 0, 2, 2],\n",
       "       [0, 1, 0, 5],\n",
       "       [0, 0, 1, 3],\n",
       "       [0, 0, 3, 5],\n",
       "       [0, 3, 2, 2],\n",
       "       [0, 0, 4, 2],\n",
       "       [0, 2, 2, 0],\n",
       "       [0, 0, 2, 3],\n",
       "       [0, 0, 5, 1],\n",
       "       [0, 0, 1, 6],\n",
       "       [0, 1, 3, 2],\n",
       "       [0, 0, 4, 3],\n",
       "       [0, 1, 0, 4],\n",
       "       [0, 0, 3, 1],\n",
       "       [0, 2, 0, 2],\n",
       "       [0, 3, 1, 4],\n",
       "       [0, 0, 2, 2],\n",
       "       [0, 0, 1, 3],\n",
       "       [0, 1, 1, 1],\n",
       "       [0, 2, 4, 2],\n",
       "       [0, 2, 4, 0],\n",
       "       [0, 0, 2, 1],\n",
       "       [0, 0, 3, 4],\n",
       "       [0, 2, 2, 1],\n",
       "       [0, 1, 1, 2],\n",
       "       [0, 2, 0, 2],\n",
       "       [0, 1, 2, 2],\n",
       "       [0, 0, 1, 4],\n",
       "       [0, 3, 1, 5],\n",
       "       [0, 0, 2, 3],\n",
       "       [0, 1, 2, 3],\n",
       "       [0, 0, 3, 2],\n",
       "       [0, 0, 2, 3],\n",
       "       [0, 1, 2, 3],\n",
       "       [0, 0, 2, 3],\n",
       "       [0, 2, 1, 5],\n",
       "       [0, 0, 2, 4],\n",
       "       [0, 3, 3, 2],\n",
       "       [0, 2, 0, 3],\n",
       "       [0, 2, 1, 3],\n",
       "       [0, 3, 0, 4],\n",
       "       [0, 1, 3, 1],\n",
       "       [0, 0, 2, 2],\n",
       "       [0, 1, 1, 3],\n",
       "       [0, 1, 2, 1],\n",
       "       [0, 0, 3, 4],\n",
       "       [0, 2, 0, 7],\n",
       "       [0, 2, 0, 2],\n",
       "       [0, 0, 3, 1],\n",
       "       [0, 1, 1, 2],\n",
       "       [0, 0, 1, 2],\n",
       "       [0, 0, 2, 3],\n",
       "       [0, 2, 3, 1],\n",
       "       [0, 2, 1, 1],\n",
       "       [0, 2, 4, 2],\n",
       "       [0, 1, 3, 5],\n",
       "       [0, 0, 2, 4],\n",
       "       [0, 0, 1, 1],\n",
       "       [0, 0, 2, 3],\n",
       "       [0, 1, 1, 1],\n",
       "       [0, 2, 1, 3],\n",
       "       [0, 3, 2, 1],\n",
       "       [0, 2, 0, 5],\n",
       "       [0, 0, 1, 5],\n",
       "       [0, 1, 0, 2],\n",
       "       [0, 1, 4, 2],\n",
       "       [0, 1, 3, 4],\n",
       "       [0, 0, 3, 2],\n",
       "       [0, 3, 0, 4],\n",
       "       [0, 0, 5, 5],\n",
       "       [0, 1, 6, 2],\n",
       "       [0, 0, 3, 1],\n",
       "       [0, 0, 2, 4],\n",
       "       [0, 4, 3, 3],\n",
       "       [0, 0, 0, 7],\n",
       "       [0, 1, 2, 5],\n",
       "       [0, 1, 0, 3],\n",
       "       [0, 0, 2, 2],\n",
       "       [0, 0, 2, 4],\n",
       "       [0, 0, 0, 6],\n",
       "       [0, 1, 2, 6],\n",
       "       [0, 1, 1, 2],\n",
       "       [0, 1, 5, 1],\n",
       "       [0, 2, 0, 3],\n",
       "       [0, 2, 4, 3],\n",
       "       [0, 0, 2, 2],\n",
       "       [0, 0, 0, 3],\n",
       "       [0, 0, 1, 2],\n",
       "       [0, 0, 1, 3],\n",
       "       [0, 0, 2, 1],\n",
       "       [0, 1, 3, 3],\n",
       "       [0, 1, 2, 3],\n",
       "       [0, 1, 2, 6],\n",
       "       [0, 1, 3, 7],\n",
       "       [0, 1, 3, 3],\n",
       "       [0, 4, 5, 3],\n",
       "       [0, 0, 0, 1],\n",
       "       [0, 0, 1, 6]])"
      ]
     },
     "execution_count": 65,
     "metadata": {},
     "output_type": "execute_result"
    }
   ],
   "source": [
    "import numpy as np\n",
    "from scipy import sparse\n",
    "\n",
    "n = 100\n",
    "p = 3\n",
    "d = 4\n",
    "\n",
    "np.random.seed(13)\n",
    "m = 1 + np.random.poisson(5,n)\n",
    "covars = np.random.uniform(0,1,(n,p))\n",
    "\n",
    "q = [[0 + j*sum(covars[i,:]) for j in range(d)] for i in range(n)]\n",
    "#rowsums = [sum(q[i]) for i in range(n)]\n",
    "q = [q[i]/sum(q[i]) for i in range(n)]\n",
    "\n",
    "#counts = sparse.csr_matrix(np.concatenate([[np.random.multinomial(m[i],q[i]) for i in range(n)]]))\n",
    "counts = np.concatenate([[np.random.multinomial(m[i],q[i]) for i in range(n)]])\n",
    "counts"
   ]
  },
  {
   "cell_type": "markdown",
   "metadata": {},
   "source": [
    "## Distributed Multinomial Regression (DMR)\n",
    "\n",
    "The Distributed Multinomial Regression (DMR) model of Taddy (2015) is a highly scalable\n",
    "approximation to the Multinomial using distributed (independent, parallel)\n",
    "Poisson regressions, one for each of the d categories (columns) of a large `counts` matrix,\n",
    "on the `covars`.\n",
    "\n",
    "To fit a DMR:"
   ]
  },
  {
   "cell_type": "code",
   "execution_count": 75,
   "metadata": {},
   "outputs": [],
   "source": [
    "from julia import HurdleDMR as hd\n",
    "m = hd.dmr(covars, counts)"
   ]
  },
  {
   "cell_type": "markdown",
   "metadata": {},
   "source": [
    "or with a dataframe and formula"
   ]
  },
  {
   "cell_type": "markdown",
   "metadata": {},
   "source": [
    "in either case we can get the coefficients matrix for each variable + intercept as usual with"
   ]
  },
  {
   "cell_type": "code",
   "execution_count": 76,
   "metadata": {},
   "outputs": [
    {
     "data": {
      "text/plain": [
       "array([[ 0.        , -1.81259356, -1.15145269, -0.68629784],\n",
       "       [ 0.        ,  0.        ,  0.        ,  0.        ],\n",
       "       [ 0.        ,  0.        ,  0.10842935,  0.        ],\n",
       "       [ 0.        ,  0.        ,  0.        ,  0.        ]])"
      ]
     },
     "execution_count": 76,
     "metadata": {},
     "output_type": "execute_result"
    }
   ],
   "source": [
    "hd.coef(m)"
   ]
  },
  {
   "cell_type": "markdown",
   "metadata": {},
   "source": [
    "By default we only return the AICc maximizing coefficients.\n",
    "To also get back the entire regulatrization paths, run"
   ]
  },
  {
   "cell_type": "code",
   "execution_count": 77,
   "metadata": {},
   "outputs": [],
   "source": [
    "paths = hd.dmrpaths(covars, counts)"
   ]
  },
  {
   "cell_type": "markdown",
   "metadata": {},
   "source": [
    "we can now select, for example the coefficients that minimize 10-fold CV mse (takes a while)"
   ]
  },
  {
   "cell_type": "code",
   "execution_count": 81,
   "metadata": {},
   "outputs": [
    {
     "data": {
      "text/plain": [
       "array([[ 0.00000000e+00, -1.81259356e+00, -1.09861236e+00,\n",
       "        -6.86297839e-01],\n",
       "       [ 0.00000000e+00,  0.00000000e+00,  0.00000000e+00,\n",
       "         0.00000000e+00],\n",
       "       [ 0.00000000e+00,  0.00000000e+00,  1.46603305e-07,\n",
       "         0.00000000e+00],\n",
       "       [ 0.00000000e+00,  0.00000000e+00,  0.00000000e+00,\n",
       "         0.00000000e+00]])"
      ]
     },
     "execution_count": 81,
     "metadata": {},
     "output_type": "execute_result"
    }
   ],
   "source": [
    "%julia using Lasso: MinCVmse\n",
    "gen = %julia MinCVKfold{MinCVmse}(10)\n",
    "hd.coef(paths, gen)"
   ]
  },
  {
   "cell_type": "markdown",
   "metadata": {},
   "source": [
    "## Hurdle Distributed Multinomial Regression (HDMR)\n",
    "\n",
    "For highly sparse counts, as is often the case with text that is selected for\n",
    "various reasons, the Hurdle Distributed Multinomial Regression (HDMR) model of\n",
    "Kelly, Manela, and Moreira (2018), may be superior to the DMR. It approximates\n",
    "a higher dispersion Multinomial using distributed (independent, parallel)\n",
    "Hurdle regressions, one for each of the d categories (columns) of a large `counts` matrix,\n",
    "on the `covars`. It allows a potentially different sets of covariates to explain\n",
    "category inclusion ($h=1{c>0}$), and repetition ($c>0$).\n",
    "\n",
    "Both the model for zeroes and for positive counts are regularized by default,\n",
    "using `GammaLassoPath`, picking the AICc optimal segment of the regularization\n",
    "path.\n",
    "\n",
    "HDMR can be fitted:"
   ]
  },
  {
   "cell_type": "code",
   "execution_count": 8,
   "metadata": {},
   "outputs": [
    {
     "name": "stderr",
     "output_type": "stream",
     "text": [
      "┌ Info: fitting 100 observations on 4 categories \n",
      "│ 2 covariates for positive and 3 for zero counts\n",
      "└ @ HurdleDMR /home/root/.julia/dev/HurdleDMR/src/hdmr.jl:468\n",
      "┌ Info: distributed InclusionRepetition run on local cluster with 4 nodes\n",
      "└ @ HurdleDMR /home/root/.julia/dev/HurdleDMR/src/hdmr.jl:481\n"
     ]
    },
    {
     "data": {
      "text/plain": [
       "HDMRCoefs{InclusionRepetition,Array{Float64,2},MinAICc,UnitRange{Int64}}([0.0 -2.48491 -0.505547 -0.23561; 0.0 0.0 -2.65019 0.203207; 0.0 0.0 -0.491465 0.0], [-2.59356 1.23117 1.73801 -13.9022; 0.0 -2.17746 0.0 38.1537; 0.0 -2.89271 0.0 423.955; 0.0 -1.23601 -1.85064 -19.9601], true, 100, 4, 1:2, 1:3, MinAICc(2))"
      ]
     },
     "execution_count": 8,
     "metadata": {},
     "output_type": "execute_result"
    }
   ],
   "source": [
    "m = hdmr(covars, counts; inpos=1:2, inzero=1:3)"
   ]
  },
  {
   "cell_type": "markdown",
   "metadata": {},
   "source": [
    "or with a dataframe and formula"
   ]
  },
  {
   "cell_type": "code",
   "execution_count": 9,
   "metadata": {},
   "outputs": [
    {
     "name": "stderr",
     "output_type": "stream",
     "text": [
      "┌ Info: fitting 100 observations on 4 categories \n",
      "│ 2 covariates for positive and 3 for zero counts\n",
      "└ @ HurdleDMR /home/root/.julia/dev/HurdleDMR/src/hdmr.jl:468\n",
      "┌ Info: distributed InclusionRepetition run on local cluster with 4 nodes\n",
      "└ @ HurdleDMR /home/root/.julia/dev/HurdleDMR/src/hdmr.jl:481\n"
     ]
    },
    {
     "data": {
      "text/plain": [
       "HDMRCoefs{InclusionRepetition,Array{Float64,2},MinAICc,Array{Int64,1}}([0.0 -2.48491 -0.505547 -0.23561; 0.0 0.0 -2.65019 0.203207; 0.0 0.0 -0.491465 0.0], [-2.59356 1.23117 1.73801 -13.9022; 0.0 -2.17746 0.0 38.1537; 0.0 -2.89271 0.0 423.955; 0.0 -1.23601 -1.85064 -19.9601], true, 100, 4, [1, 2], [1, 2, 3], MinAICc(2))"
      ]
     },
     "execution_count": 9,
     "metadata": {},
     "output_type": "execute_result"
    }
   ],
   "source": [
    "mf = @model(h ~ vy + v1 + v2, c ~ vy + v1)\n",
    "m = fit(HDMR, mf, covarsdf, counts)"
   ]
  },
  {
   "cell_type": "markdown",
   "metadata": {},
   "source": [
    "where the h ~ equation is the model for zeros (hurdle crossing) and c ~ is the model for positive counts\n",
    "\n",
    "in either case we can get the coefficients matrix for each variable + intercept as usual with"
   ]
  },
  {
   "cell_type": "code",
   "execution_count": 10,
   "metadata": {},
   "outputs": [
    {
     "data": {
      "text/plain": [
       "([0.0 -2.48491 -0.505547 -0.23561; 0.0 0.0 -2.65019 0.203207; 0.0 0.0 -0.491465 0.0], [-2.59356 1.23117 1.73801 -13.9022; 0.0 -2.17746 0.0 38.1537; 0.0 -2.89271 0.0 423.955; 0.0 -1.23601 -1.85064 -19.9601])"
      ]
     },
     "execution_count": 10,
     "metadata": {},
     "output_type": "execute_result"
    }
   ],
   "source": [
    "coefspos, coefszero = coef(m)"
   ]
  },
  {
   "cell_type": "markdown",
   "metadata": {},
   "source": [
    "By default we only return the AICc maximizing coefficients.\n",
    "To also get back the entire regulatrization paths, run"
   ]
  },
  {
   "cell_type": "code",
   "execution_count": 11,
   "metadata": {
    "scrolled": true
   },
   "outputs": [
    {
     "name": "stderr",
     "output_type": "stream",
     "text": [
      "┌ Info: fitting 100 observations on 4 categories \n",
      "│ 2 covariates for positive and 3 for zero counts\n",
      "└ @ HurdleDMR /home/root/.julia/dev/HurdleDMR/src/hdmr.jl:281\n",
      "┌ Info: distributed InclusionRepetition run on remote cluster with 4 nodes\n",
      "└ @ HurdleDMR /home/root/.julia/dev/HurdleDMR/src/hdmr.jl:312\n"
     ]
    },
    {
     "data": {
      "text/plain": [
       "([0.0 0.0 0.0; 0.0 0.0 0.0; … ; 0.0 0.0 0.0; 0.0 0.0 0.0]\n",
       "\n",
       "[-2.48491 0.0 0.0; -2.41917 -0.199534 0.0; … ; 0.0 0.0 0.0; 0.0 0.0 0.0]\n",
       "\n",
       "[-1.78805 0.0 0.0; -1.69583 -0.197051 0.0; … ; 0.0 0.0 0.0; 0.0 0.0 0.0]\n",
       "\n",
       "[-0.133883 3.92431e-7 0.0; -0.149695 0.0319783 0.0; … ; 0.0 0.0 0.0; 0.0 0.0 0.0], [-2.59356 0.0 0.0 0.0; -2.54089 0.0 0.0 -0.121014; … ; 0.0 0.0 0.0 0.0; 0.0 0.0 0.0 0.0]\n",
       "\n",
       "[-1.5251 0.0 0.0 0.0; -1.43208 0.0 -0.192178 0.0; … ; 0.0 0.0 0.0 0.0; 0.0 0.0 0.0 0.0]\n",
       "\n",
       "[0.670484 0.0 0.0 -4.29912e-8; 0.762441 0.0 0.0 -0.163359; … ; 0.0 0.0 0.0 0.0; 0.0 0.0 0.0 0.0]\n",
       "\n",
       "[4.94744 0.0 0.0 0.0; 4.64738 0.0 0.592183 0.0; … ; -13.6801 37.63 417.646 -19.6945; -13.9022 38.1537 423.955 -19.9601])"
      ]
     },
     "execution_count": 11,
     "metadata": {},
     "output_type": "execute_result"
    }
   ],
   "source": [
    "paths = fit(HDMRPaths, mf, covarsdf, counts)\n",
    "\n",
    "coef(paths, AllSeg())"
   ]
  },
  {
   "cell_type": "markdown",
   "metadata": {},
   "source": [
    "## Sufficient reduction projection\n",
    "\n",
    "A sufficient reduction projection summarizes the counts, much like a sufficient\n",
    "statistic, and is useful for reducing the d dimensional counts in a potentially\n",
    "much lower dimension matrix `z`.\n",
    "\n",
    "To get a sufficient reduction projection in direction of vy for the above\n",
    "example"
   ]
  },
  {
   "cell_type": "code",
   "execution_count": 12,
   "metadata": {},
   "outputs": [
    {
     "data": {
      "text/plain": [
       "100×4 Array{Float64,2}:\n",
       " -0.367472   19.0768   10.0  2.0\n",
       " -0.0821325  19.0768   10.0  2.0\n",
       "  0.203207   38.1537    3.0  1.0\n",
       " -0.158994   11.9921    9.0  3.0\n",
       "  0.135472   11.9921    6.0  3.0\n",
       "  0.203207   38.1537    7.0  1.0\n",
       " -0.670108   11.9921    7.0  3.0\n",
       " -0.204421   19.0768    7.0  2.0\n",
       " -0.153467   19.0768    8.0  2.0\n",
       " -0.430881   19.0768    9.0  2.0\n",
       " -0.113837   19.0768    9.0  2.0\n",
       "  0.203207   38.1537    4.0  1.0\n",
       "  0.203207   38.1537    4.0  1.0\n",
       "  ⋮                             \n",
       " -1.01943     8.99406   5.0  4.0\n",
       "  0.203207   38.1537    4.0  1.0\n",
       " -1.22349    19.0768    4.0  2.0\n",
       " -0.747925   19.0768    6.0  2.0\n",
       " -0.367472   19.0768    5.0  2.0\n",
       " -0.510142   19.0768    4.0  2.0\n",
       " -0.315592   19.0768   11.0  2.0\n",
       " -0.233451   11.9921    7.0  3.0\n",
       " -1.24889    12.7179    8.0  3.0\n",
       " -1.22349    19.0768    2.0  2.0\n",
       " -1.22349    19.0768    6.0  2.0\n",
       " -0.612049   19.0768    7.0  2.0"
      ]
     },
     "execution_count": 12,
     "metadata": {},
     "output_type": "execute_result"
    }
   ],
   "source": [
    "z = srproj(m,counts,1,1)"
   ]
  },
  {
   "cell_type": "markdown",
   "metadata": {},
   "source": [
    "Here, the first column is the SR projection from the model for positive counts, the second is the the SR projection from the model for hurdle crossing (zeros), and the third is the total count for each observation."
   ]
  },
  {
   "cell_type": "markdown",
   "metadata": {},
   "source": [
    "## Counts Inverse Regression (CIR)\n",
    "\n",
    "Counts inverse regression allows us to predict a covariate with the counts and other covariates.\n",
    "Here we use hdmr for the backward regression and another model for the forward regression.\n",
    "This can be accomplished with a single command, by fitting a CIR{HDMR,FM} where the forward model is FM <: RegressionModel."
   ]
  },
  {
   "cell_type": "code",
   "execution_count": 13,
   "metadata": {},
   "outputs": [
    {
     "name": "stderr",
     "output_type": "stream",
     "text": [
      "┌ Info: fitting 100 observations on 4 categories \n",
      "│ 2 covariates for positive and 3 for zero counts\n",
      "└ @ HurdleDMR /home/root/.julia/dev/HurdleDMR/src/hdmr.jl:468\n",
      "┌ Info: distributed InclusionRepetition run on local cluster with 4 nodes\n",
      "└ @ HurdleDMR /home/root/.julia/dev/HurdleDMR/src/hdmr.jl:481\n"
     ]
    },
    {
     "data": {
      "text/plain": [
       "CIR{HDMR,LinearModel}(1, [1, 2], HDMRCoefs{InclusionRepetition,Array{Float64,2},MinAICc,Array{Int64,1}}([0.0 -2.48491 -0.505547 -0.23561; 0.0 0.0 -2.65019 0.203207; 0.0 0.0 -0.491465 0.0], [-2.59356 1.23117 1.73801 -13.9022; 0.0 -2.17746 0.0 38.1537; 0.0 -2.89271 0.0 423.955; 0.0 -1.23601 -1.85064 -19.9601], true, 100, 4, [1, 2], [1, 2, 3], MinAICc(2)), LinearModel{GLM.LmResp{Array{Float64,1}},GLM.DensePredChol{Float64,Cholesky{Float64,Array{Float64,2}}}}:\n",
       "\n",
       "Coefficients:\n",
       "─────────────────────────────────────────────────────────────────────────\n",
       "       Estimate  Std. Error    t value  Pr(>|t|)    Lower 95%   Upper 95%\n",
       "─────────────────────────────────────────────────────────────────────────\n",
       "x1   0.806879    0.254456     3.171       0.0021   0.30158     1.31218   \n",
       "x2  -0.103535    0.096488    -1.07304     0.2860  -0.295142    0.0880707 \n",
       "x3  -0.115557    0.103506    -1.11642     0.2671  -0.321099    0.0899861 \n",
       "x4   0.154634    0.0814074    1.89951     0.0606  -0.00702506  0.316293  \n",
       "x5  -0.00108295  0.00500668  -0.216302    0.8292  -0.0110252   0.00885932\n",
       "x6   0.00588134  0.012264     0.479563    0.6327  -0.0184725   0.0302351 \n",
       "x7  -0.0905476   0.0652975   -1.38669     0.1689  -0.220216    0.0391203 \n",
       "─────────────────────────────────────────────────────────────────────────\n",
       ", LinearModel{GLM.LmResp{Array{Float64,1}},GLM.DensePredChol{Float64,Cholesky{Float64,Array{Float64,2}}}}:\n",
       "\n",
       "Coefficients:\n",
       "─────────────────────────────────────────────────────────────────────\n",
       "      Estimate  Std. Error    t value  Pr(>|t|)  Lower 95%  Upper 95%\n",
       "─────────────────────────────────────────────────────────────────────\n",
       "x1   0.456718    0.0713401   6.40198     <1e-8    0.315127   0.598308\n",
       "x2  -0.0414989   0.0975448  -0.425434    0.6715  -0.235098   0.152101\n",
       "x3   0.0921372   0.0909831   1.01269     0.3137  -0.088439   0.272713\n",
       "─────────────────────────────────────────────────────────────────────\n",
       ")"
      ]
     },
     "execution_count": 13,
     "metadata": {},
     "output_type": "execute_result"
    }
   ],
   "source": [
    "cir = fit(CIR{HDMR,LinearModel},mf,covarsdf,counts,:vy; nocounts=true)"
   ]
  },
  {
   "cell_type": "markdown",
   "metadata": {},
   "source": [
    "where the ```nocounts=true``` means we also fit a benchmark model without counts.\n",
    "\n",
    "we can get the forward and backward model coefficients with"
   ]
  },
  {
   "cell_type": "code",
   "execution_count": 14,
   "metadata": {},
   "outputs": [
    {
     "data": {
      "text/plain": [
       "([0.0 -2.48491 -0.505547 -0.23561; 0.0 0.0 -2.65019 0.203207; 0.0 0.0 -0.491465 0.0], [-2.59356 1.23117 1.73801 -13.9022; 0.0 -2.17746 0.0 38.1537; 0.0 -2.89271 0.0 423.955; 0.0 -1.23601 -1.85064 -19.9601])"
      ]
     },
     "execution_count": 14,
     "metadata": {},
     "output_type": "execute_result"
    }
   ],
   "source": [
    "coefbwd(cir)"
   ]
  },
  {
   "cell_type": "code",
   "execution_count": 15,
   "metadata": {},
   "outputs": [
    {
     "data": {
      "text/plain": [
       "7-element Array{Float64,1}:\n",
       "  0.8068791910919334   \n",
       " -0.10353546049021634  \n",
       " -0.11555664427731226  \n",
       "  0.1546339871132811   \n",
       " -0.0010829538468236821\n",
       "  0.005881340629811088 \n",
       " -0.0905476479689421   "
      ]
     },
     "execution_count": 15,
     "metadata": {},
     "output_type": "execute_result"
    }
   ],
   "source": [
    "coeffwd(cir)"
   ]
  },
  {
   "cell_type": "markdown",
   "metadata": {},
   "source": [
    "The fitted model can be used to predict vy with new data"
   ]
  },
  {
   "cell_type": "code",
   "execution_count": 16,
   "metadata": {},
   "outputs": [
    {
     "data": {
      "text/plain": [
       "10-element Array{Union{Missing, Float64},1}:\n",
       " 0.4698993353328307 \n",
       " 0.45963979129838384\n",
       " 0.5782657496603597 \n",
       " 0.484620220504942  \n",
       " 0.5023887465911144 \n",
       " 0.5914871966842338 \n",
       " 0.40669982045527   \n",
       " 0.5011220105167319 \n",
       " 0.4811118616060238 \n",
       " 0.5030932551174164 "
      ]
     },
     "execution_count": 16,
     "metadata": {},
     "output_type": "execute_result"
    }
   ],
   "source": [
    "yhat = predict(cir, covarsdf[1:10,:], counts[1:10,:])"
   ]
  },
  {
   "cell_type": "markdown",
   "metadata": {},
   "source": [
    "We can also predict only with the other covariates, which in this case\n",
    "is just a linear regression"
   ]
  },
  {
   "cell_type": "code",
   "execution_count": 17,
   "metadata": {},
   "outputs": [
    {
     "data": {
      "text/plain": [
       "10-element Array{Union{Missing, Float64},1}:\n",
       " 0.45731660084749226\n",
       " 0.5179985510761541 \n",
       " 0.4807768729723196 \n",
       " 0.47254808567420575\n",
       " 0.47267552235044974\n",
       " 0.48519627697522144\n",
       " 0.4799151241219515 \n",
       " 0.44186379731084846\n",
       " 0.4592317510593359 \n",
       " 0.4232136851484049 "
      ]
     },
     "execution_count": 17,
     "metadata": {},
     "output_type": "execute_result"
    }
   ],
   "source": [
    "yhat_nocounts = predict(cir, covarsdf[1:10,:], counts[1:10,:]; nocounts=true)"
   ]
  },
  {
   "cell_type": "markdown",
   "metadata": {},
   "source": [
    "Kelly, Manela, and Moreira (2018) show that the differences between DMR and HDMR can be substantial in some cases, especially when the counts data is highly sparse.\n",
    "\n",
    "Please reference the paper for additional details and example applications."
   ]
  }
 ],
 "metadata": {
  "@webio": {
   "lastCommId": null,
   "lastKernelId": null
  },
  "kernelspec": {
   "display_name": "Python 3",
   "language": "python",
   "name": "python3"
  },
  "language_info": {
   "codemirror_mode": {
    "name": "ipython",
    "version": 3
   },
   "file_extension": ".py",
   "mimetype": "text/x-python",
   "name": "python",
   "nbconvert_exporter": "python",
   "pygments_lexer": "ipython3",
   "version": "3.7.2"
  }
 },
 "nbformat": 4,
 "nbformat_minor": 2
}
