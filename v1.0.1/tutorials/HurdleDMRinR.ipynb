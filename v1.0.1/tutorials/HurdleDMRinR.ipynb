{
 "cells": [
  {
   "cell_type": "markdown",
   "metadata": {},
   "source": [
    "# HurdleDMR from R\n",
    "\n",
    "HurdleDMR.jl is a Julia implementation of the Hurdle Distributed Multiple Regression (HDMR), as described in:\n",
    "\n",
    "Kelly, Bryan, Asaf Manela, and Alan Moreira (2018). Text Selection. [Working paper](http://apps.olin.wustl.edu/faculty/manela/kmm/textselection/).\n",
    "\n",
    "It includes a Julia implementation of the Distributed Multinomial Regression (DMR) model of [Taddy (2015)](https://arxiv.org/abs/1311.6139).\n",
    "\n",
    "This tutorial explains how to use this package from R via the JuliaCall package that is available on CRAN.\n",
    "\n",
    "## Setup\n",
    "\n",
    "### Install Julia\n",
    "\n",
    "First, install Julia itself. The easiest way to do that is from the download site https://julialang.org/downloads/. An alternative is to install JuliaPro from https://juliacomputing.com\n",
    "\n",
    "Once installed, open start julia in a terminal and add the following packages:\n",
    "\n",
    "```julia\n",
    "Pkg.add(\"RCall\")\n",
    "Pkg.clone(\"https://github.com/AsafManela/Lasso.jl\")\n",
    "Pkg.clone(\"https://github.com/AsafManela/HurdleDMR.jl\")\n",
    "```\n",
    "\n",
    "### The JuliaCall package for R\n",
    "\n",
    "Now, back to R"
   ]
  },
  {
   "cell_type": "code",
   "execution_count": 1,
   "metadata": {},
   "outputs": [],
   "source": [
    "install.packages(\"JuliaCall\")"
   ]
  },
  {
   "cell_type": "markdown",
   "metadata": {},
   "source": [
    "Load the JuliaCall library and setup julia"
   ]
  },
  {
   "cell_type": "code",
   "execution_count": 2,
   "metadata": {},
   "outputs": [
    {
     "name": "stderr",
     "output_type": "stream",
     "text": [
      "Julia version 1.0.3 at location C:\\Users\\user\\AppData\\Local\\JULIA-~1.3\\bin will be used.\n",
      "Loading setup script for JuliaCall...\n",
      "Finish loading setup script for JuliaCall.\n"
     ]
    }
   ],
   "source": [
    "library(JuliaCall)\n",
    "j <- julia_setup()"
   ]
  },
  {
   "cell_type": "markdown",
   "metadata": {},
   "source": [
    "We can now use `j$xx` to call julia as in"
   ]
  },
  {
   "cell_type": "code",
   "execution_count": 3,
   "metadata": {},
   "outputs": [
    {
     "data": {
      "text/html": [
       "3"
      ],
      "text/latex": [
       "3"
      ],
      "text/markdown": [
       "3"
      ],
      "text/plain": [
       "[1] 3"
      ]
     },
     "metadata": {},
     "output_type": "display_data"
    }
   ],
   "source": [
    "j$eval(\"1+2\")"
   ]
  },
  {
   "cell_type": "markdown",
   "metadata": {},
   "source": [
    "### Example data\n",
    "\n",
    "We will use for this example data that ships with the fantastic `textir` package for R."
   ]
  },
  {
   "cell_type": "code",
   "execution_count": 4,
   "metadata": {},
   "outputs": [
    {
     "name": "stderr",
     "output_type": "stream",
     "text": [
      "Loading required package: distrom\n",
      "Loading required package: Matrix\n",
      "Loading required package: gamlr\n",
      "Loading required package: parallel\n"
     ]
    }
   ],
   "source": [
    "#install.packages(\"textir\") \n",
    "library(textir)\n",
    "\n",
    "data(we8there)\n",
    "\n",
    "covars <- we8thereRatings[,'Overall',drop=FALSE]\n",
    "counts <- we8thereCounts"
   ]
  },
  {
   "cell_type": "markdown",
   "metadata": {},
   "source": [
    "\n",
    "## Benchmark in R\n",
    "\n",
    "To compare the two, we first fit a dmr in R using `textir` (a wrapper for `distrom`). \n",
    "\n",
    "Make a cluster of `nprocs` processors"
   ]
  },
  {
   "cell_type": "code",
   "execution_count": 5,
   "metadata": {
    "collapsed": true
   },
   "outputs": [],
   "source": [
    "nprocs <- as.integer(detectCores()-2)\n",
    "cl <- makeCluster(nprocs,type=ifelse(.Platform$OS.type==\"unix\",\"FORK\",\"PSOCK\")) "
   ]
  },
  {
   "cell_type": "markdown",
   "metadata": {},
   "source": [
    "### Fit Distributed mutlinomial regression (DMR) in parallel"
   ]
  },
  {
   "cell_type": "code",
   "execution_count": 6,
   "metadata": {},
   "outputs": [
    {
     "name": "stdout",
     "output_type": "stream",
     "text": [
      "fitting 6166 observations on 2640 categories, 1 covariates.\n",
      "converting counts matrix to column list...\n",
      "distributed run.\n",
      "socket cluster with 10 nodes on host 'localhost'\n"
     ]
    },
    {
     "data": {
      "text/plain": [
       "   user  system elapsed \n",
       "   0.33    0.08   26.83 "
      ]
     },
     "metadata": {},
     "output_type": "display_data"
    }
   ],
   "source": [
    "system.time(fits <- dmr(cl, covars, counts, verb=1))"
   ]
  },
  {
   "cell_type": "markdown",
   "metadata": {},
   "source": [
    "Good. Now stop the cluster to clean up."
   ]
  },
  {
   "cell_type": "code",
   "execution_count": 7,
   "metadata": {
    "collapsed": true
   },
   "outputs": [],
   "source": [
    "stopCluster(cl)"
   ]
  },
  {
   "cell_type": "markdown",
   "metadata": {},
   "source": [
    "Get AICc optimal coefficients"
   ]
  },
  {
   "cell_type": "code",
   "execution_count": 8,
   "metadata": {},
   "outputs": [
    {
     "data": {
      "text/html": [
       "<ol class=list-inline>\n",
       "\t<li>2</li>\n",
       "\t<li>2640</li>\n",
       "</ol>\n"
      ],
      "text/latex": [
       "\\begin{enumerate*}\n",
       "\\item 2\n",
       "\\item 2640\n",
       "\\end{enumerate*}\n"
      ],
      "text/markdown": [
       "1. 2\n",
       "2. 2640\n",
       "\n",
       "\n"
      ],
      "text/plain": [
       "[1]    2 2640"
      ]
     },
     "metadata": {},
     "output_type": "display_data"
    }
   ],
   "source": [
    "BR <- coef(fits)\n",
    "dim(BR)"
   ]
  },
  {
   "cell_type": "markdown",
   "metadata": {},
   "source": [
    "Get SR projection onto factors"
   ]
  },
  {
   "cell_type": "code",
   "execution_count": 9,
   "metadata": {},
   "outputs": [
    {
     "data": {
      "text/html": [
       "<ol class=list-inline>\n",
       "\t<li>6166</li>\n",
       "\t<li>2</li>\n",
       "</ol>\n"
      ],
      "text/latex": [
       "\\begin{enumerate*}\n",
       "\\item 6166\n",
       "\\item 2\n",
       "\\end{enumerate*}\n"
      ],
      "text/markdown": [
       "1. 6166\n",
       "2. 2\n",
       "\n",
       "\n"
      ],
      "text/plain": [
       "[1] 6166    2"
      ]
     },
     "metadata": {},
     "output_type": "display_data"
    }
   ],
   "source": [
    "zR <- srproj(BR,counts) \n",
    "dim(zR)"
   ]
  },
  {
   "cell_type": "markdown",
   "metadata": {},
   "source": [
    "### Multinomial inverse regression (MNIR)\n",
    "The fitted object can be used to it a forward regression to predict a covariate using the low dimensional SRproj of the counts"
   ]
  },
  {
   "cell_type": "code",
   "execution_count": 10,
   "metadata": {},
   "outputs": [
    {
     "data": {
      "text/plain": [
       "\n",
       "Call:\n",
       "lm(formula = Overall ~ zOverall + m, data = X)\n",
       "\n",
       "Residuals:\n",
       "    Min      1Q  Median      3Q     Max \n",
       "-4.5142 -0.5608  0.1370  0.6838  4.0842 \n",
       "\n",
       "Coefficients:\n",
       "            Estimate Std. Error t value Pr(>|t|)    \n",
       "(Intercept) 3.402149   0.019292 176.348  < 2e-16 ***\n",
       "zOverall    3.181332   0.041696  76.298  < 2e-16 ***\n",
       "m           0.006737   0.001096   6.146 8.42e-10 ***\n",
       "---\n",
       "Signif. codes:  0 '***' 0.001 '**' 0.01 '*' 0.05 '.' 0.1 ' ' 1\n",
       "\n",
       "Residual standard error: 0.9654 on 6163 degrees of freedom\n",
       "Multiple R-squared:  0.4896,\tAdjusted R-squared:  0.4894 \n",
       "F-statistic:  2956 on 2 and 6163 DF,  p-value: < 2.2e-16\n"
      ]
     },
     "metadata": {},
     "output_type": "display_data"
    }
   ],
   "source": [
    "X <- cbind(covars,zR)\n",
    "colnames(X) <- c(\"Overall\",\"zOverall\",\"m\")\n",
    "fmR <- lm(Overall ~ zOverall + m, X)\n",
    "summary(fmR)"
   ]
  },
  {
   "cell_type": "markdown",
   "metadata": {},
   "source": [
    "We can now predict Overall with new counts data"
   ]
  },
  {
   "cell_type": "code",
   "execution_count": 11,
   "metadata": {},
   "outputs": [
    {
     "data": {
      "text/html": [
       "<ol class=list-inline>\n",
       "\t<li>4.86419983554951</li>\n",
       "\t<li>2.24484606535357</li>\n",
       "\t<li>5.65307467025703</li>\n",
       "\t<li>4.568446245483</li>\n",
       "\t<li>4.66848593149624</li>\n",
       "\t<li>5.06290073040162</li>\n",
       "\t<li>3.66278776217998</li>\n",
       "\t<li>4.47468035358368</li>\n",
       "\t<li>4.00369363965046</li>\n",
       "\t<li>7.35463703886027</li>\n",
       "</ol>\n"
      ],
      "text/latex": [
       "\\begin{enumerate*}\n",
       "\\item 4.86419983554951\n",
       "\\item 2.24484606535357\n",
       "\\item 5.65307467025703\n",
       "\\item 4.568446245483\n",
       "\\item 4.66848593149624\n",
       "\\item 5.06290073040162\n",
       "\\item 3.66278776217998\n",
       "\\item 4.47468035358368\n",
       "\\item 4.00369363965046\n",
       "\\item 7.35463703886027\n",
       "\\end{enumerate*}\n"
      ],
      "text/markdown": [
       "1. 4.86419983554951\n",
       "2. 2.24484606535357\n",
       "3. 5.65307467025703\n",
       "4. 4.568446245483\n",
       "5. 4.66848593149624\n",
       "6. 5.06290073040162\n",
       "7. 3.66278776217998\n",
       "8. 4.47468035358368\n",
       "9. 4.00369363965046\n",
       "10. 7.35463703886027\n",
       "\n",
       "\n"
      ],
      "text/plain": [
       " [1] 4.864200 2.244846 5.653075 4.568446 4.668486 5.062901 3.662788 4.474680\n",
       " [9] 4.003694 7.354637"
      ]
     },
     "metadata": {},
     "output_type": "display_data"
    }
   ],
   "source": [
    "newX = as.data.frame(srproj(BR,counts[1:10,]))\n",
    "colnames(newX) <-c(\"zOverall\",\"m\")\n",
    "yhatdmrR <- predict(fmR, newX)\n",
    "as.vector(yhatdmrR)"
   ]
  },
  {
   "cell_type": "markdown",
   "metadata": {},
   "source": [
    "## Same model but in Julia\n",
    "Now lets try that in julia.\n",
    "\n",
    "We need to pass the data to julia"
   ]
  },
  {
   "cell_type": "code",
   "execution_count": 12,
   "metadata": {},
   "outputs": [
    {
     "data": {
      "text/html": [
       "6166×2640 SparseArrays.SparseMatrixCSC{Float64,Int64} with 66459 stored entries:\n",
       "  [11  ,    1]  =  1.0\n",
       "  [20  ,    1]  =  1.0\n",
       "  [43  ,    1]  =  1.0\n",
       "  [63  ,    1]  =  1.0\n",
       "  [80  ,    1]  =  1.0\n",
       "  [87  ,    1]  =  1.0\n",
       "  [88  ,    1]  =  1.0\n",
       "  [97  ,    1]  =  1.0\n",
       "  [141 ,    1]  =  1.0\n",
       "  ⋮\n",
       "  [1273, 2640]  =  1.0\n",
       "  [1955, 2640]  =  1.0\n",
       "  [2509, 2640]  =  1.0\n",
       "  [2842, 2640]  =  1.0\n",
       "  [3929, 2640]  =  1.0\n",
       "  [4314, 2640]  =  1.0\n",
       "  [4862, 2640]  =  1.0\n",
       "  [5702, 2640]  =  1.0\n",
       "  [6007, 2640]  =  1.0"
      ]
     },
     "metadata": {},
     "output_type": "display_data"
    }
   ],
   "source": [
    "j$command(\"import SparseArrays\")\n",
    "j$assign(\"covars\",covars)\n",
    "## there are probably more efficient ways to pass the sparse matrix, but JuliaCall doesn't do this automatically at the moment\n",
    "j$assign(\"counts\",as.matrix(counts))\n",
    "j$command(\"counts = SparseArrays.sparse(counts)\")"
   ]
  },
  {
   "cell_type": "markdown",
   "metadata": {},
   "source": [
    "add parallel workers"
   ]
  },
  {
   "cell_type": "code",
   "execution_count": 13,
   "metadata": {},
   "outputs": [
    {
     "data": {
      "text/html": [
       "<ol class=list-inline>\n",
       "\t<li>2</li>\n",
       "\t<li>3</li>\n",
       "\t<li>4</li>\n",
       "\t<li>5</li>\n",
       "\t<li>6</li>\n",
       "\t<li>7</li>\n",
       "\t<li>8</li>\n",
       "\t<li>9</li>\n",
       "\t<li>10</li>\n",
       "\t<li>11</li>\n",
       "</ol>\n"
      ],
      "text/latex": [
       "\\begin{enumerate*}\n",
       "\\item 2\n",
       "\\item 3\n",
       "\\item 4\n",
       "\\item 5\n",
       "\\item 6\n",
       "\\item 7\n",
       "\\item 8\n",
       "\\item 9\n",
       "\\item 10\n",
       "\\item 11\n",
       "\\end{enumerate*}\n"
      ],
      "text/markdown": [
       "1. 2\n",
       "2. 3\n",
       "3. 4\n",
       "4. 5\n",
       "5. 6\n",
       "6. 7\n",
       "7. 8\n",
       "8. 9\n",
       "9. 10\n",
       "10. 11\n",
       "\n",
       "\n"
      ],
      "text/plain": [
       " [1]  2  3  4  5  6  7  8  9 10 11"
      ]
     },
     "metadata": {},
     "output_type": "display_data"
    }
   ],
   "source": [
    "j$command(\"using Distributed\")\n",
    "j$call(\"addprocs\", nprocs)"
   ]
  },
  {
   "cell_type": "markdown",
   "metadata": {},
   "source": [
    "make our package available to all workers"
   ]
  },
  {
   "cell_type": "code",
   "execution_count": 14,
   "metadata": {},
   "outputs": [],
   "source": [
    "j$command(\"import HurdleDMR; @everywhere using HurdleDMR\")"
   ]
  },
  {
   "cell_type": "markdown",
   "metadata": {},
   "source": [
    "### Fit Distributed mutlinomial regression (DMR) in Julia"
   ]
  },
  {
   "cell_type": "code",
   "execution_count": 15,
   "metadata": {},
   "outputs": [
    {
     "data": {
      "text/plain": [
       "   user  system elapsed \n",
       "  16.54    0.14   59.09 "
      ]
     },
     "metadata": {},
     "output_type": "display_data"
    }
   ],
   "source": [
    "system.time(j$command(\"m = fit(DMR,@model(c ~ 1 + Overall),covars,counts);\"))"
   ]
  },
  {
   "cell_type": "markdown",
   "metadata": {},
   "source": [
    "The above returns a lightweight wrapper with basically just the coefficients.\n",
    "To get the entire regularization paths, try the following"
   ]
  },
  {
   "cell_type": "code",
   "execution_count": 16,
   "metadata": {},
   "outputs": [
    {
     "data": {
      "text/plain": [
       "   user  system elapsed \n",
       "   5.47    1.45   11.50 "
      ]
     },
     "metadata": {},
     "output_type": "display_data"
    }
   ],
   "source": [
    "system.time(j$command(\"m = fit(DMRPaths,@model(c ~ 1 + Overall),covars,counts);\"))"
   ]
  },
  {
   "cell_type": "markdown",
   "metadata": {},
   "source": [
    "Julia compiles each function on its first call, which may be slower for one-off applications, but faster when the function is called many times. So to get a sense of runtime without that fixed cost, you may wish to run it again."
   ]
  },
  {
   "cell_type": "code",
   "execution_count": 17,
   "metadata": {},
   "outputs": [
    {
     "data": {
      "text/plain": [
       "   user  system elapsed \n",
       "   0.02    0.04    4.52 "
      ]
     },
     "metadata": {},
     "output_type": "display_data"
    }
   ],
   "source": [
    "system.time(j$command(\"m = fit(DMR,@model(c ~ 1 + Overall),covars,counts);\"))"
   ]
  },
  {
   "cell_type": "markdown",
   "metadata": {},
   "source": [
    "On our machine, julia fits dmr in about half the time as R (see 'elapsed' entries above).\n",
    "The speed improvment is mostly due to sharing of memory across parallel workers."
   ]
  },
  {
   "cell_type": "markdown",
   "metadata": {},
   "source": [
    "Get AICc optimal coefficients"
   ]
  },
  {
   "cell_type": "code",
   "execution_count": 18,
   "metadata": {},
   "outputs": [
    {
     "data": {
      "text/html": [
       "<ol class=list-inline>\n",
       "\t<li>2</li>\n",
       "\t<li>2640</li>\n",
       "</ol>\n"
      ],
      "text/latex": [
       "\\begin{enumerate*}\n",
       "\\item 2\n",
       "\\item 2640\n",
       "\\end{enumerate*}\n"
      ],
      "text/markdown": [
       "1. 2\n",
       "2. 2640\n",
       "\n",
       "\n"
      ],
      "text/plain": [
       "[1]    2 2640"
      ]
     },
     "metadata": {},
     "output_type": "display_data"
    }
   ],
   "source": [
    "Bjulia <- j$eval(\"coef(m)\")\n",
    "dim(Bjulia)"
   ]
  },
  {
   "cell_type": "markdown",
   "metadata": {},
   "source": [
    "Get SR projection onto factors"
   ]
  },
  {
   "cell_type": "code",
   "execution_count": 19,
   "metadata": {},
   "outputs": [
    {
     "data": {
      "text/html": [
       "<ol class=list-inline>\n",
       "\t<li>6166</li>\n",
       "\t<li>2</li>\n",
       "</ol>\n"
      ],
      "text/latex": [
       "\\begin{enumerate*}\n",
       "\\item 6166\n",
       "\\item 2\n",
       "\\end{enumerate*}\n"
      ],
      "text/markdown": [
       "1. 6166\n",
       "2. 2\n",
       "\n",
       "\n"
      ],
      "text/plain": [
       "[1] 6166    2"
      ]
     },
     "metadata": {},
     "output_type": "display_data"
    }
   ],
   "source": [
    "zjulia <- j$eval(\"srproj(m,counts)\")\n",
    "dim(zjulia)"
   ]
  },
  {
   "cell_type": "markdown",
   "metadata": {},
   "source": [
    "Comparing zR to zjulia we see that the estimates are about the same."
   ]
  },
  {
   "cell_type": "code",
   "execution_count": 20,
   "metadata": {},
   "outputs": [
    {
     "data": {
      "text/html": [
       "'Mean relative difference: 0.0250051'"
      ],
      "text/latex": [
       "'Mean relative difference: 0.0250051'"
      ],
      "text/markdown": [
       "'Mean relative difference: 0.0250051'"
      ],
      "text/plain": [
       "[1] \"Mean relative difference: 0.0250051\""
      ]
     },
     "metadata": {},
     "output_type": "display_data"
    }
   ],
   "source": [
    "all.equal(zR, zjulia, check.attributes = FALSE)"
   ]
  },
  {
   "cell_type": "markdown",
   "metadata": {},
   "source": [
    "The differences are mostly due to default regularization paths differences."
   ]
  },
  {
   "cell_type": "markdown",
   "metadata": {},
   "source": [
    "### Multinomial inverse regression (MNIR)\n",
    "The HurdleDMR package provides a general method to fit Counts Inverse Regressions (CIR), `fit(CIR...)` that can fit both backward and forward parts of the MNIR. For example:"
   ]
  },
  {
   "cell_type": "code",
   "execution_count": 21,
   "metadata": {},
   "outputs": [
    {
     "data": {
      "text/plain": [
       "   user  system elapsed \n",
       "   1.45    0.05    5.86 "
      ]
     },
     "metadata": {},
     "output_type": "display_data"
    }
   ],
   "source": [
    "j$command(\"using GLM\")\n",
    "system.time(j$command(\"mnir = fit(CIR{DMR,LinearModel},@model(c ~ 1 + Overall),covars,counts,:Overall);\"))"
   ]
  },
  {
   "cell_type": "code",
   "execution_count": 22,
   "metadata": {},
   "outputs": [
    {
     "data": {
      "text/plain": [
       "Julia Object of type LinearModel{LmResp{Array{Float64,1}},DensePredChol{Float64,Cholesky{Float64,Array{Float64,2}}}}.\n",
       "LinearModel{LmResp{Array{Float64,1}},DensePredChol{Float64,Cholesky{Float64,Array{Float64,2}}}}:\n",
       "\n",
       "Coefficients:\n",
       "       Estimate  Std.Error t value Pr(>|t|)\n",
       "x1      3.42207  0.0194634 175.821   <1e-99\n",
       "x2      3.12546  0.0420257 74.3701   <1e-99\n",
       "x3   0.00619096 0.00110878 5.58357    <1e-7\n"
      ]
     },
     "metadata": {},
     "output_type": "display_data"
    }
   ],
   "source": [
    "j$eval(\"mnir.model.fwdm\")"
   ]
  },
  {
   "cell_type": "markdown",
   "metadata": {},
   "source": [
    "The fitted model can be used for prediction as follows:"
   ]
  },
  {
   "cell_type": "code",
   "execution_count": 23,
   "metadata": {},
   "outputs": [
    {
     "data": {
      "text/html": [
       "<ol class=list-inline>\n",
       "\t<li>4.82560813985272</li>\n",
       "\t<li>2.29188447231926</li>\n",
       "\t<li>5.64079872447367</li>\n",
       "\t<li>4.54721361660461</li>\n",
       "\t<li>4.64900142586795</li>\n",
       "\t<li>5.01050775607373</li>\n",
       "\t<li>3.67264187569116</li>\n",
       "\t<li>4.44109783266488</li>\n",
       "\t<li>3.97904110850575</li>\n",
       "\t<li>7.29252606765281</li>\n",
       "</ol>\n"
      ],
      "text/latex": [
       "\\begin{enumerate*}\n",
       "\\item 4.82560813985272\n",
       "\\item 2.29188447231926\n",
       "\\item 5.64079872447367\n",
       "\\item 4.54721361660461\n",
       "\\item 4.64900142586795\n",
       "\\item 5.01050775607373\n",
       "\\item 3.67264187569116\n",
       "\\item 4.44109783266488\n",
       "\\item 3.97904110850575\n",
       "\\item 7.29252606765281\n",
       "\\end{enumerate*}\n"
      ],
      "text/markdown": [
       "1. 4.82560813985272\n",
       "2. 2.29188447231926\n",
       "3. 5.64079872447367\n",
       "4. 4.54721361660461\n",
       "5. 4.64900142586795\n",
       "6. 5.01050775607373\n",
       "7. 3.67264187569116\n",
       "8. 4.44109783266488\n",
       "9. 3.97904110850575\n",
       "10. 7.29252606765281\n",
       "\n",
       "\n"
      ],
      "text/plain": [
       " [1] 4.825608 2.291884 5.640799 4.547214 4.649001 5.010508 3.672642 4.441098\n",
       " [9] 3.979041 7.292526"
      ]
     },
     "metadata": {},
     "output_type": "display_data"
    }
   ],
   "source": [
    "yhatdmrJ <- j$eval(\"predict(mnir,covars[1:10,:],counts[1:10,:])\")\n",
    "yhatdmrJ"
   ]
  },
  {
   "cell_type": "markdown",
   "metadata": {},
   "source": [
    "Comparing the R and julia versions of the predicted values, they appear to be quite similar:"
   ]
  },
  {
   "cell_type": "code",
   "execution_count": 24,
   "metadata": {},
   "outputs": [
    {
     "data": {
      "text/html": [
       "'Mean relative difference: 0.006899308'"
      ],
      "text/latex": [
       "'Mean relative difference: 0.006899308'"
      ],
      "text/markdown": [
       "'Mean relative difference: 0.006899308'"
      ],
      "text/plain": [
       "[1] \"Mean relative difference: 0.006899308\""
      ]
     },
     "metadata": {},
     "output_type": "display_data"
    }
   ],
   "source": [
    "all.equal(yhatdmrR, yhatdmrJ, check.attributes = FALSE)"
   ]
  },
  {
   "cell_type": "markdown",
   "metadata": {},
   "source": [
    "## Hurdle Distributed Multiple Regression (HDMR)"
   ]
  },
  {
   "cell_type": "markdown",
   "metadata": {},
   "source": [
    "Another advantage of the julia package is allowing for text selection via HDMR. Here we specify the two parts of the model via two formulas:"
   ]
  },
  {
   "cell_type": "code",
   "execution_count": 25,
   "metadata": {},
   "outputs": [
    {
     "data": {
      "text/plain": [
       "   user  system elapsed \n",
       "   2.34    0.10   21.34 "
      ]
     },
     "metadata": {},
     "output_type": "display_data"
    }
   ],
   "source": [
    "system.time(j$command(\"m = fit(HDMR,@model(c ~ 1 + Overall, h ~ 1 + Overall),covars,counts);\"))"
   ]
  },
  {
   "cell_type": "markdown",
   "metadata": {},
   "source": [
    "Fitted HDMR involves two coefficient arrays, one for the model for positives `c ~ ...` and one for the model for hurdle crossing or zeros `h ~ ...`"
   ]
  },
  {
   "cell_type": "code",
   "execution_count": 26,
   "metadata": {},
   "outputs": [],
   "source": [
    "Cjulia <- j$eval(\"coef(m)\")"
   ]
  },
  {
   "cell_type": "markdown",
   "metadata": {},
   "source": [
    "The projection onto factors now gives [zpos, zzero, m] instead of [z, m] as before"
   ]
  },
  {
   "cell_type": "code",
   "execution_count": 27,
   "metadata": {},
   "outputs": [],
   "source": [
    "Zjulia <- j$eval(\"srproj(m,counts)\")"
   ]
  },
  {
   "cell_type": "markdown",
   "metadata": {},
   "source": [
    "If we wish to run a CIR with HDMR instead of DMR, all we need to do is specify it in a very similar call to `fit(CIR...)`:"
   ]
  },
  {
   "cell_type": "code",
   "execution_count": 28,
   "metadata": {},
   "outputs": [
    {
     "data": {
      "text/plain": [
       "   user  system elapsed \n",
       "   0.82    0.04   10.67 "
      ]
     },
     "metadata": {},
     "output_type": "display_data"
    }
   ],
   "source": [
    "system.time(j$command(\"cir = fit(CIR{HDMR,LinearModel},@model(c ~ 1 + Overall, h ~ 1 + Overall),covars,counts,:Overall);\"))"
   ]
  },
  {
   "cell_type": "code",
   "execution_count": 29,
   "metadata": {},
   "outputs": [
    {
     "data": {
      "text/plain": [
       "Julia Object of type LinearModel{LmResp{Array{Float64,1}},DensePredChol{Float64,Cholesky{Float64,Array{Float64,2}}}}.\n",
       "LinearModel{LmResp{Array{Float64,1}},DensePredChol{Float64,Cholesky{Float64,Array{Float64,2}}}}:\n",
       "\n",
       "Coefficients:\n",
       "       Estimate  Std.Error t value Pr(>|t|)\n",
       "x1      3.45647   0.019695   175.5   <1e-99\n",
       "x2     0.325451   0.116531 2.79282   0.0052\n",
       "x3      3.21951  0.0443889 72.5297   <1e-99\n",
       "x4   0.00557669 0.00111955  4.9812    <1e-6\n"
      ]
     },
     "metadata": {},
     "output_type": "display_data"
    }
   ],
   "source": [
    "j$eval(\"cir.model.fwdm\")"
   ]
  },
  {
   "cell_type": "markdown",
   "metadata": {},
   "source": [
    "The HDMR-based CIR model can be used to predict with new data"
   ]
  },
  {
   "cell_type": "code",
   "execution_count": 30,
   "metadata": {},
   "outputs": [
    {
     "data": {
      "text/html": [
       "<ol class=list-inline>\n",
       "\t<li>4.89765647648426</li>\n",
       "\t<li>2.1886062371493</li>\n",
       "\t<li>5.74273601134927</li>\n",
       "\t<li>4.59929418883643</li>\n",
       "\t<li>4.70140333079505</li>\n",
       "\t<li>4.87705036869567</li>\n",
       "\t<li>3.6771148111424</li>\n",
       "\t<li>4.35870860551018</li>\n",
       "\t<li>4.03657422748465</li>\n",
       "\t<li>7.44228280574888</li>\n",
       "</ol>\n"
      ],
      "text/latex": [
       "\\begin{enumerate*}\n",
       "\\item 4.89765647648426\n",
       "\\item 2.1886062371493\n",
       "\\item 5.74273601134927\n",
       "\\item 4.59929418883643\n",
       "\\item 4.70140333079505\n",
       "\\item 4.87705036869567\n",
       "\\item 3.6771148111424\n",
       "\\item 4.35870860551018\n",
       "\\item 4.03657422748465\n",
       "\\item 7.44228280574888\n",
       "\\end{enumerate*}\n"
      ],
      "text/markdown": [
       "1. 4.89765647648426\n",
       "2. 2.1886062371493\n",
       "3. 5.74273601134927\n",
       "4. 4.59929418883643\n",
       "5. 4.70140333079505\n",
       "6. 4.87705036869567\n",
       "7. 3.6771148111424\n",
       "8. 4.35870860551018\n",
       "9. 4.03657422748465\n",
       "10. 7.44228280574888\n",
       "\n",
       "\n"
      ],
      "text/plain": [
       " [1] 4.897656 2.188606 5.742736 4.599294 4.701403 4.877050 3.677115 4.358709\n",
       " [9] 4.036574 7.442283"
      ]
     },
     "metadata": {},
     "output_type": "display_data"
    }
   ],
   "source": [
    "yhathdmr <- j$eval(\"predict(cir,covars[1:10,:],counts[1:10,:])\")\n",
    "yhathdmr"
   ]
  },
  {
   "cell_type": "markdown",
   "metadata": {},
   "source": [
    "Comparing the three predicted values shows only minor differences in this toy example."
   ]
  },
  {
   "cell_type": "code",
   "execution_count": 31,
   "metadata": {},
   "outputs": [
    {
     "data": {
      "text/html": [
       "<table>\n",
       "<thead><tr><th></th><th scope=col>yhatdmrR</th><th scope=col>yhatdmrJ</th><th scope=col>yhathdmr</th></tr></thead>\n",
       "<tbody>\n",
       "\t<tr><th scope=row>1</th><td>4.864200</td><td>4.825608</td><td>4.897656</td></tr>\n",
       "\t<tr><th scope=row>2</th><td>2.244846</td><td>2.291884</td><td>2.188606</td></tr>\n",
       "\t<tr><th scope=row>5</th><td>5.653075</td><td>5.640799</td><td>5.742736</td></tr>\n",
       "\t<tr><th scope=row>11</th><td>4.568446</td><td>4.547214</td><td>4.599294</td></tr>\n",
       "\t<tr><th scope=row>12</th><td>4.668486</td><td>4.649001</td><td>4.701403</td></tr>\n",
       "\t<tr><th scope=row>13</th><td>5.062901</td><td>5.010508</td><td>4.877050</td></tr>\n",
       "\t<tr><th scope=row>14</th><td>3.662788</td><td>3.672642</td><td>3.677115</td></tr>\n",
       "\t<tr><th scope=row>15</th><td>4.474680</td><td>4.441098</td><td>4.358709</td></tr>\n",
       "\t<tr><th scope=row>17</th><td>4.003694</td><td>3.979041</td><td>4.036574</td></tr>\n",
       "\t<tr><th scope=row>18</th><td>7.354637</td><td>7.292526</td><td>7.442283</td></tr>\n",
       "</tbody>\n",
       "</table>\n"
      ],
      "text/latex": [
       "\\begin{tabular}{r|lll}\n",
       "  & yhatdmrR & yhatdmrJ & yhathdmr\\\\\n",
       "\\hline\n",
       "\t1 & 4.864200 & 4.825608 & 4.897656\\\\\n",
       "\t2 & 2.244846 & 2.291884 & 2.188606\\\\\n",
       "\t5 & 5.653075 & 5.640799 & 5.742736\\\\\n",
       "\t11 & 4.568446 & 4.547214 & 4.599294\\\\\n",
       "\t12 & 4.668486 & 4.649001 & 4.701403\\\\\n",
       "\t13 & 5.062901 & 5.010508 & 4.877050\\\\\n",
       "\t14 & 3.662788 & 3.672642 & 3.677115\\\\\n",
       "\t15 & 4.474680 & 4.441098 & 4.358709\\\\\n",
       "\t17 & 4.003694 & 3.979041 & 4.036574\\\\\n",
       "\t18 & 7.354637 & 7.292526 & 7.442283\\\\\n",
       "\\end{tabular}\n"
      ],
      "text/markdown": [
       "\n",
       "| <!--/--> | yhatdmrR | yhatdmrJ | yhathdmr |\n",
       "|---|---|---|---|\n",
       "| 1 | 4.864200 | 4.825608 | 4.897656 |\n",
       "| 2 | 2.244846 | 2.291884 | 2.188606 |\n",
       "| 5 | 5.653075 | 5.640799 | 5.742736 |\n",
       "| 11 | 4.568446 | 4.547214 | 4.599294 |\n",
       "| 12 | 4.668486 | 4.649001 | 4.701403 |\n",
       "| 13 | 5.062901 | 5.010508 | 4.877050 |\n",
       "| 14 | 3.662788 | 3.672642 | 3.677115 |\n",
       "| 15 | 4.474680 | 4.441098 | 4.358709 |\n",
       "| 17 | 4.003694 | 3.979041 | 4.036574 |\n",
       "| 18 | 7.354637 | 7.292526 | 7.442283 |\n",
       "\n"
      ],
      "text/plain": [
       "   yhatdmrR yhatdmrJ yhathdmr\n",
       "1  4.864200 4.825608 4.897656\n",
       "2  2.244846 2.291884 2.188606\n",
       "5  5.653075 5.640799 5.742736\n",
       "11 4.568446 4.547214 4.599294\n",
       "12 4.668486 4.649001 4.701403\n",
       "13 5.062901 5.010508 4.877050\n",
       "14 3.662788 3.672642 3.677115\n",
       "15 4.474680 4.441098 4.358709\n",
       "17 4.003694 3.979041 4.036574\n",
       "18 7.354637 7.292526 7.442283"
      ]
     },
     "metadata": {},
     "output_type": "display_data"
    }
   ],
   "source": [
    "cbind(yhatdmrR,yhatdmrJ,yhathdmr)"
   ]
  },
  {
   "cell_type": "markdown",
   "metadata": {},
   "source": [
    "Kelly, Manela, and Moreira (2018) show, however, that the differences between DMR and HDMR can be substantial in some cases, especially when the counts data is highly sparse.\n",
    "\n",
    "Please reference the paper for additional details and example applications."
   ]
  }
 ],
 "metadata": {
  "kernelspec": {
   "display_name": "R",
   "language": "R",
   "name": "ir"
  },
  "language_info": {
   "codemirror_mode": "r",
   "file_extension": ".r",
   "mimetype": "text/x-r-source",
   "name": "R",
   "pygments_lexer": "r",
   "version": "3.5.2"
  }
 },
 "nbformat": 4,
 "nbformat_minor": 2
}
