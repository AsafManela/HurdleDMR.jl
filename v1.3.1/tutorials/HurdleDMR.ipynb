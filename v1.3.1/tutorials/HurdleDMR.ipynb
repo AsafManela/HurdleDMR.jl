{
 "cells": [
  {
   "cell_type": "markdown",
   "metadata": {},
   "source": [
    "# HurdleDMR\n",
    "\n",
    "HurdleDMR.jl is a Julia implementation of the Hurdle Distributed Multinomial Regression (HDMR), as described in:\n",
    "\n",
    "Kelly, Bryan, Asaf Manela, and Alan Moreira (2018). Text Selection. [Working paper](http://apps.olin.wustl.edu/faculty/manela/kmm/textselection/).\n",
    "\n",
    "It includes a Julia implementation of the Distributed Multinomial Regression (DMR) model of [Taddy (2015)](https://arxiv.org/abs/1311.6139).\n",
    "\n",
    "This tutorial explains how to use this package.\n",
    "\n",
    "## Setup\n",
    "\n",
    "### Install Julia\n",
    "\n",
    "First, install Julia itself. The easiest way to do that is from the download site https://julialang.org/downloads/. An alternative is to install JuliaPro from https://juliacomputing.com\n",
    "\n",
    "Once installed, open julia in a terminal (or in Juno), press `]` to activate package manager and add the following packages:\n",
    "```\n",
    "pkg> add HurdleDMR\n",
    "```"
   ]
  },
  {
   "cell_type": "markdown",
   "metadata": {},
   "source": [
    "Add parallel workers and make package available to workers"
   ]
  },
  {
   "cell_type": "code",
   "execution_count": 1,
   "metadata": {},
   "outputs": [],
   "source": [
    "using Distributed\n",
    "addprocs(4)\n",
    "import HurdleDMR; @everywhere using HurdleDMR"
   ]
  },
  {
   "cell_type": "markdown",
   "metadata": {},
   "source": [
    "### Example Data\n",
    "\n",
    "Setup your data into an n-by-p covars matrix, and a (sparse) n-by-d counts matrix. Here we generate some random data."
   ]
  },
  {
   "cell_type": "markdown",
   "metadata": {},
   "source": [
    "if not installed, install following package with \n",
    "```\n",
    "pkg> add CSV GLM DataFrames Distributions\n",
    "```"
   ]
  },
  {
   "cell_type": "code",
   "execution_count": 2,
   "metadata": {},
   "outputs": [
    {
     "data": {
      "text/html": [
       "<table class=\"data-frame\"><thead><tr><th></th><th>vy</th><th>v1</th><th>v2</th></tr><tr><th></th><th>Float64</th><th>Float64</th><th>Float64</th></tr></thead><tbody><p>100 rows × 3 columns</p><tr><th>1</th><td>0.693073</td><td>0.877116</td><td>0.401554</td></tr><tr><th>2</th><td>0.938163</td><td>0.737491</td><td>0.997271</td></tr><tr><th>3</th><td>0.755878</td><td>0.743268</td><td>0.595892</td></tr><tr><th>4</th><td>0.191058</td><td>0.296443</td><td>0.30533</td></tr><tr><th>5</th><td>0.00753542</td><td>0.360474</td><td>0.335553</td></tr><tr><th>6</th><td>0.410974</td><td>0.773871</td><td>0.657641</td></tr><tr><th>7</th><td>0.279942</td><td>0.154284</td><td>0.321258</td></tr><tr><th>8</th><td>0.208454</td><td>0.849653</td><td>0.22147</td></tr><tr><th>9</th><td>0.639872</td><td>0.926706</td><td>0.444675</td></tr><tr><th>10</th><td>0.269132</td><td>0.83785</td><td>0.0137366</td></tr><tr><th>11</th><td>0.704959</td><td>0.120137</td><td>0.401541</td></tr><tr><th>12</th><td>0.820248</td><td>0.379542</td><td>0.704862</td></tr><tr><th>13</th><td>0.752849</td><td>0.745383</td><td>0.907775</td></tr><tr><th>14</th><td>0.634401</td><td>0.383528</td><td>0.276991</td></tr><tr><th>15</th><td>0.370604</td><td>0.595542</td><td>0.0999965</td></tr><tr><th>16</th><td>0.400454</td><td>0.596132</td><td>0.00424357</td></tr><tr><th>17</th><td>0.331037</td><td>0.777271</td><td>0.963936</td></tr><tr><th>18</th><td>0.109256</td><td>0.45404</td><td>0.873842</td></tr><tr><th>19</th><td>0.0384627</td><td>0.358023</td><td>0.369017</td></tr><tr><th>20</th><td>0.655115</td><td>0.984853</td><td>0.284056</td></tr><tr><th>21</th><td>0.961148</td><td>0.425115</td><td>0.836061</td></tr><tr><th>22</th><td>0.313693</td><td>0.631212</td><td>0.33691</td></tr><tr><th>23</th><td>0.468663</td><td>0.203475</td><td>0.0895971</td></tr><tr><th>24</th><td>0.130995</td><td>0.416474</td><td>0.25323</td></tr><tr><th>25</th><td>0.510355</td><td>0.418123</td><td>0.542134</td></tr><tr><th>26</th><td>0.763879</td><td>0.501635</td><td>0.257008</td></tr><tr><th>27</th><td>0.139297</td><td>0.337539</td><td>0.143543</td></tr><tr><th>28</th><td>0.315356</td><td>0.838806</td><td>0.0502037</td></tr><tr><th>29</th><td>0.359166</td><td>0.992776</td><td>0.882517</td></tr><tr><th>30</th><td>0.511267</td><td>0.983282</td><td>0.976795</td></tr><tr><th>&vellip;</th><td>&vellip;</td><td>&vellip;</td><td>&vellip;</td></tr></tbody></table>"
      ],
      "text/latex": [
       "\\begin{tabular}{r|ccc}\n",
       "\t& vy & v1 & v2\\\\\n",
       "\t\\hline\n",
       "\t& Float64 & Float64 & Float64\\\\\n",
       "\t\\hline\n",
       "\t1 & 0.693073 & 0.877116 & 0.401554 \\\\\n",
       "\t2 & 0.938163 & 0.737491 & 0.997271 \\\\\n",
       "\t3 & 0.755878 & 0.743268 & 0.595892 \\\\\n",
       "\t4 & 0.191058 & 0.296443 & 0.30533 \\\\\n",
       "\t5 & 0.00753542 & 0.360474 & 0.335553 \\\\\n",
       "\t6 & 0.410974 & 0.773871 & 0.657641 \\\\\n",
       "\t7 & 0.279942 & 0.154284 & 0.321258 \\\\\n",
       "\t8 & 0.208454 & 0.849653 & 0.22147 \\\\\n",
       "\t9 & 0.639872 & 0.926706 & 0.444675 \\\\\n",
       "\t10 & 0.269132 & 0.83785 & 0.0137366 \\\\\n",
       "\t11 & 0.704959 & 0.120137 & 0.401541 \\\\\n",
       "\t12 & 0.820248 & 0.379542 & 0.704862 \\\\\n",
       "\t13 & 0.752849 & 0.745383 & 0.907775 \\\\\n",
       "\t14 & 0.634401 & 0.383528 & 0.276991 \\\\\n",
       "\t15 & 0.370604 & 0.595542 & 0.0999965 \\\\\n",
       "\t16 & 0.400454 & 0.596132 & 0.00424357 \\\\\n",
       "\t17 & 0.331037 & 0.777271 & 0.963936 \\\\\n",
       "\t18 & 0.109256 & 0.45404 & 0.873842 \\\\\n",
       "\t19 & 0.0384627 & 0.358023 & 0.369017 \\\\\n",
       "\t20 & 0.655115 & 0.984853 & 0.284056 \\\\\n",
       "\t21 & 0.961148 & 0.425115 & 0.836061 \\\\\n",
       "\t22 & 0.313693 & 0.631212 & 0.33691 \\\\\n",
       "\t23 & 0.468663 & 0.203475 & 0.0895971 \\\\\n",
       "\t24 & 0.130995 & 0.416474 & 0.25323 \\\\\n",
       "\t25 & 0.510355 & 0.418123 & 0.542134 \\\\\n",
       "\t26 & 0.763879 & 0.501635 & 0.257008 \\\\\n",
       "\t27 & 0.139297 & 0.337539 & 0.143543 \\\\\n",
       "\t28 & 0.315356 & 0.838806 & 0.0502037 \\\\\n",
       "\t29 & 0.359166 & 0.992776 & 0.882517 \\\\\n",
       "\t30 & 0.511267 & 0.983282 & 0.976795 \\\\\n",
       "\t$\\dots$ & $\\dots$ & $\\dots$ & $\\dots$ \\\\\n",
       "\\end{tabular}\n"
      ],
      "text/plain": [
       "100×3 DataFrame\n",
       "│ Row │ vy         │ v1        │ v2        │\n",
       "│     │ \u001b[90mFloat64\u001b[39m    │ \u001b[90mFloat64\u001b[39m   │ \u001b[90mFloat64\u001b[39m   │\n",
       "├─────┼────────────┼───────────┼───────────┤\n",
       "│ 1   │ 0.693073   │ 0.877116  │ 0.401554  │\n",
       "│ 2   │ 0.938163   │ 0.737491  │ 0.997271  │\n",
       "│ 3   │ 0.755878   │ 0.743268  │ 0.595892  │\n",
       "│ 4   │ 0.191058   │ 0.296443  │ 0.30533   │\n",
       "│ 5   │ 0.00753542 │ 0.360474  │ 0.335553  │\n",
       "│ 6   │ 0.410974   │ 0.773871  │ 0.657641  │\n",
       "│ 7   │ 0.279942   │ 0.154284  │ 0.321258  │\n",
       "│ 8   │ 0.208454   │ 0.849653  │ 0.22147   │\n",
       "│ 9   │ 0.639872   │ 0.926706  │ 0.444675  │\n",
       "│ 10  │ 0.269132   │ 0.83785   │ 0.0137366 │\n",
       "⋮\n",
       "│ 90  │ 0.406825   │ 0.596095  │ 0.917259  │\n",
       "│ 91  │ 0.155235   │ 0.843106  │ 0.624239  │\n",
       "│ 92  │ 0.392799   │ 0.188386  │ 0.370373  │\n",
       "│ 93  │ 0.140967   │ 0.231702  │ 0.643646  │\n",
       "│ 94  │ 0.949803   │ 0.193669  │ 0.6456    │\n",
       "│ 95  │ 0.545791   │ 0.0684737 │ 0.214744  │\n",
       "│ 96  │ 0.873547   │ 0.340041  │ 0.387132  │\n",
       "│ 97  │ 0.268384   │ 0.638205  │ 0.0480452 │\n",
       "│ 98  │ 0.335241   │ 0.45505   │ 0.414783  │\n",
       "│ 99  │ 0.0528473  │ 0.295635  │ 0.259848  │\n",
       "│ 100 │ 0.561838   │ 0.815154  │ 0.210454  │"
      ]
     },
     "execution_count": 2,
     "metadata": {},
     "output_type": "execute_result"
    }
   ],
   "source": [
    "using CSV, GLM, Lasso, DataFrames, Distributions, Random, LinearAlgebra, SparseArrays\n",
    "n = 100\n",
    "p = 3\n",
    "d = 4\n",
    "\n",
    "Random.seed!(13)\n",
    "m = 1 .+ rand(Poisson(5),n)\n",
    "covars = rand(n,p)\n",
    "ηfn(vi) = exp.([0 + i*sum(vi) for i=1:d])\n",
    "q = [ηfn(covars[i,:]) for i=1:n]\n",
    "rmul!.(q,ones(n)./sum.(q))\n",
    "counts = convert(SparseMatrixCSC{Float64,Int},hcat(broadcast((qi,mi)->rand(Multinomial(mi, qi)),q,m)...)')\n",
    "covarsdf = DataFrame(covars,[:vy, :v1, :v2])"
   ]
  },
  {
   "cell_type": "markdown",
   "metadata": {},
   "source": [
    "## Distributed Multinomial Regression (DMR)\n",
    "\n",
    "The Distributed Multinomial Regression (DMR) model of Taddy (2015) is a highly scalable\n",
    "approximation to the Multinomial using distributed (independent, parallel)\n",
    "Poisson regressions, one for each of the d categories (columns) of a large `counts` matrix,\n",
    "on the `covars`.\n",
    "\n",
    "To fit a DMR:"
   ]
  },
  {
   "cell_type": "code",
   "execution_count": 3,
   "metadata": {},
   "outputs": [
    {
     "name": "stderr",
     "output_type": "stream",
     "text": [
      "┌ Info: fitting 100 observations on 4 categories, 3 covariates \n",
      "└ @ HurdleDMR /home/root/.julia/dev/HurdleDMR/src/dmr.jl:302\n",
      "┌ Info: distributed poisson run on local cluster with 4 nodes\n",
      "└ @ HurdleDMR /home/root/.julia/dev/HurdleDMR/src/dmr.jl:314\n"
     ]
    },
    {
     "data": {
      "text/plain": [
       "DMRCoefs{Array{Float64,2},MinAICc}([-1.84481 -0.478703 -0.631308 -0.760733; -1.88824 -2.50035 -0.898109 0.368329; -0.91088 -2.47381 -0.318847 0.201772; -2.24309 -1.38126 -1.22846 0.37388], true, 100, 4, 3, MinAICc(2))"
      ]
     },
     "execution_count": 3,
     "metadata": {},
     "output_type": "execute_result"
    }
   ],
   "source": [
    "m = dmr(covars, counts)"
   ]
  },
  {
   "cell_type": "markdown",
   "metadata": {},
   "source": [
    "or with a dataframe and formula"
   ]
  },
  {
   "cell_type": "code",
   "execution_count": 4,
   "metadata": {},
   "outputs": [
    {
     "name": "stderr",
     "output_type": "stream",
     "text": [
      "┌ Info: fitting 100 observations on 4 categories, 3 covariates \n",
      "└ @ HurdleDMR /home/root/.julia/dev/HurdleDMR/src/dmr.jl:302\n",
      "┌ Info: distributed poisson run on local cluster with 4 nodes\n",
      "└ @ HurdleDMR /home/root/.julia/dev/HurdleDMR/src/dmr.jl:314\n"
     ]
    },
    {
     "data": {
      "text/plain": [
       "DMRCoefs{Array{Float64,2},MinAICc}([-1.84481 -0.478703 -0.631308 -0.760733; -1.88824 -2.50035 -0.898109 0.368329; -0.91088 -2.47381 -0.318847 0.201772; -2.24309 -1.38126 -1.22846 0.37388], true, 100, 4, 3, MinAICc(2))"
      ]
     },
     "execution_count": 4,
     "metadata": {},
     "output_type": "execute_result"
    }
   ],
   "source": [
    "mf = @model(c ~ vy + v1 + v2)\n",
    "m = fit(DMR, mf, covarsdf, counts)"
   ]
  },
  {
   "cell_type": "markdown",
   "metadata": {},
   "source": [
    "in either case we can get the coefficients matrix for each variable + intercept as usual with"
   ]
  },
  {
   "cell_type": "code",
   "execution_count": 5,
   "metadata": {},
   "outputs": [
    {
     "data": {
      "text/plain": [
       "4×4 Array{Float64,2}:\n",
       " -1.84481  -0.478703  -0.631308  -0.760733\n",
       " -1.88824  -2.50035   -0.898109   0.368329\n",
       " -0.91088  -2.47381   -0.318847   0.201772\n",
       " -2.24309  -1.38126   -1.22846    0.37388 "
      ]
     },
     "execution_count": 5,
     "metadata": {},
     "output_type": "execute_result"
    }
   ],
   "source": [
    "coef(m)"
   ]
  },
  {
   "cell_type": "markdown",
   "metadata": {},
   "source": [
    "By default we only return the AICc maximizing coefficients.\n",
    "To also get back the entire regulatrization paths, run"
   ]
  },
  {
   "cell_type": "code",
   "execution_count": 6,
   "metadata": {},
   "outputs": [
    {
     "name": "stderr",
     "output_type": "stream",
     "text": [
      "┌ Info: fitting 100 observations on 4 categories, 3 covariates \n",
      "└ @ HurdleDMR /home/root/.julia/dev/HurdleDMR/src/dmr.jl:362\n",
      "┌ Info: distributed poisson run on remote cluster with 4 nodes\n",
      "└ @ HurdleDMR /home/root/.julia/dev/HurdleDMR/src/dmr.jl:384\n"
     ]
    },
    {
     "data": {
      "text/plain": [
       "DMRPaths(Union{Missing, GammaLassoPath}[Poisson GammaLassoPath (50) solutions for 4 predictors in 257 iterations):\n",
       "──────────────────────────────────────\n",
       "                λ      pct_dev  ncoefs\n",
       "──────────────────────────────────────\n",
       " [1]  0.0761628    4.77396e-15       0\n",
       " [2]  0.0693967    0.0160918         1\n",
       " [3]  0.0632317    0.0296043         1\n",
       " [4]  0.0576143    0.0452719         2\n",
       " [5]  0.052496     0.0614706         2\n",
       " [6]  0.0478324    0.0751983         2\n",
       " [7]  0.0435831    0.0868424         2\n",
       " [8]  0.0397113    0.0967254         2\n",
       " [9]  0.0361835    0.105115          2\n",
       "[10]  0.032969     0.11224           2\n",
       "[11]  0.0300402    0.118282          2\n",
       "[12]  0.0273715    0.124314          3\n",
       "[13]  0.0249399    0.130633          3\n",
       "[14]  0.0227243    0.135993          3\n",
       "[15]  0.0207055    0.140525          3\n",
       "[16]  0.0188661    0.144358          3\n",
       "[17]  0.0171901    0.147597          3\n",
       "[18]  0.015663     0.150333          3\n",
       "[19]  0.0142715    0.152641          3\n",
       "[20]  0.0130037    0.154586          3\n",
       "[21]  0.0118485    0.156225          3\n",
       "[22]  0.0107959    0.157604          3\n",
       "[23]  0.0098368    0.158764          3\n",
       "[24]  0.00896292   0.159738          3\n",
       "[25]  0.00816668   0.160556          3\n",
       "[26]  0.00744118   0.161242          3\n",
       "[27]  0.00678012   0.161818          3\n",
       "[28]  0.0061778    0.162299          3\n",
       "[29]  0.00562898   0.162703          3\n",
       "[30]  0.00512891   0.16304           3\n",
       "[31]  0.00467328   0.163322          3\n",
       "[32]  0.00425812   0.163558          3\n",
       "[33]  0.00387984   0.163755          3\n",
       "[34]  0.00353516   0.163919          3\n",
       "[35]  0.00322111   0.164056          3\n",
       "[36]  0.00293495   0.164171          3\n",
       "[37]  0.00267422   0.164266          3\n",
       "[38]  0.00243665   0.164346          3\n",
       "[39]  0.00222018   0.164412          3\n",
       "[40]  0.00202295   0.164467          3\n",
       "[41]  0.00184324   0.164513          3\n",
       "[42]  0.00167949   0.164551          3\n",
       "[43]  0.00153029   0.164583          3\n",
       "[44]  0.00139434   0.16461           3\n",
       "[45]  0.00127047   0.164632          3\n",
       "[46]  0.00115761   0.16465           3\n",
       "[47]  0.00105477   0.164665          3\n",
       "[48]  0.000961065  0.164678          3\n",
       "[49]  0.000875687  0.164689          3\n",
       "[50]  0.000797893  0.164698          3\n",
       "──────────────────────────────────────, Poisson GammaLassoPath (51) solutions for 4 predictors in 282 iterations):\n",
       "─────────────────────────────────────\n",
       "               λ      pct_dev  ncoefs\n",
       "─────────────────────────────────────\n",
       " [1]  0.169502    1.77636e-14       0\n",
       " [2]  0.154444    0.0291542         2\n",
       " [3]  0.140723    0.0623827         2\n",
       " [4]  0.128222    0.090534          2\n",
       " [5]  0.116831    0.116502          3\n",
       " [6]  0.106452    0.141835          3\n",
       " [7]  0.0969951   0.163402          3\n",
       " [8]  0.0883783   0.181775          3\n",
       " [9]  0.080527    0.197429          3\n",
       "[10]  0.0733732   0.210765          3\n",
       "[11]  0.066855    0.222122          3\n",
       "[12]  0.0609158   0.23179           3\n",
       "[13]  0.0555042   0.240012          3\n",
       "[14]  0.0505733   0.247             3\n",
       "[15]  0.0460805   0.252934          3\n",
       "[16]  0.0419869   0.257966          3\n",
       "[17]  0.0382569   0.262231          3\n",
       "[18]  0.0348582   0.265841          3\n",
       "[19]  0.0317615   0.268893          3\n",
       "[20]  0.0289399   0.271471          3\n",
       "[21]  0.026369    0.273647          3\n",
       "[22]  0.0240264   0.27548           3\n",
       "[23]  0.021892    0.277024          3\n",
       "[24]  0.0199472   0.278323          3\n",
       "[25]  0.0181751   0.279415          3\n",
       "[26]  0.0165605   0.280332          3\n",
       "[27]  0.0150893   0.281101          3\n",
       "[28]  0.0137488   0.281746          3\n",
       "[29]  0.0125274   0.282286          3\n",
       "[30]  0.0114145   0.282739          3\n",
       "[31]  0.0104005   0.283117          3\n",
       "[32]  0.00947652  0.283434          3\n",
       "[33]  0.00863465  0.283698          3\n",
       "[34]  0.00786757  0.283919          3\n",
       "[35]  0.00716864  0.284104          3\n",
       "[36]  0.0065318   0.284258          3\n",
       "[37]  0.00595153  0.284386          3\n",
       "[38]  0.00542281  0.284493          3\n",
       "[39]  0.00494107  0.284582          3\n",
       "[40]  0.00450211  0.284657          3\n",
       "[41]  0.00410216  0.284719          3\n",
       "[42]  0.00373773  0.28477           3\n",
       "[43]  0.00340568  0.284813          3\n",
       "[44]  0.00310313  0.284849          3\n",
       "[45]  0.00282746  0.284879          3\n",
       "[46]  0.00257628  0.284903          3\n",
       "[47]  0.00234741  0.284924          3\n",
       "[48]  0.00213887  0.284941          3\n",
       "[49]  0.00194886  0.284955          3\n",
       "[50]  0.00177573  0.284967          3\n",
       "[51]  0.00161798  0.284977          3\n",
       "─────────────────────────────────────, Poisson GammaLassoPath (51) solutions for 4 predictors in 248 iterations):\n",
       "───────────────────────────────────\n",
       "               λ    pct_dev  ncoefs\n",
       "───────────────────────────────────\n",
       " [1]  0.420148    0.0             0\n",
       " [2]  0.382823    0.0275775       1\n",
       " [3]  0.348814    0.050612        1\n",
       " [4]  0.317827    0.0698654       1\n",
       " [5]  0.289592    0.0859654       1\n",
       " [6]  0.263865    0.108082        2\n",
       " [7]  0.240424    0.127106        2\n",
       " [8]  0.219066    0.143043        2\n",
       " [9]  0.199604    0.156396        2\n",
       "[10]  0.181872    0.167582        2\n",
       "[11]  0.165715    0.17695         2\n",
       "[12]  0.150993    0.184793        2\n",
       "[13]  0.13758     0.191356        2\n",
       "[14]  0.125357    0.196847        2\n",
       "[15]  0.114221    0.201437        2\n",
       "[16]  0.104074    0.205275        2\n",
       "[17]  0.0948282   0.209376        3\n",
       "[18]  0.086404    0.213349        3\n",
       "[19]  0.0787281   0.216666        3\n",
       "[20]  0.0717341   0.219435        3\n",
       "[21]  0.0653614   0.221744        3\n",
       "[22]  0.0595549   0.223671        3\n",
       "[23]  0.0542642   0.225277        3\n",
       "[24]  0.0494435   0.226615        3\n",
       "[25]  0.0450511   0.22773         3\n",
       "[26]  0.0410489   0.22866         3\n",
       "[27]  0.0374022   0.229433        3\n",
       "[28]  0.0340795   0.230077        3\n",
       "[29]  0.031052    0.230614        3\n",
       "[30]  0.0282934   0.23106         3\n",
       "[31]  0.0257799   0.231431        3\n",
       "[32]  0.0234897   0.23174         3\n",
       "[33]  0.0214029   0.231997        3\n",
       "[34]  0.0195015   0.232211        3\n",
       "[35]  0.0177691   0.232388        3\n",
       "[36]  0.0161905   0.232536        3\n",
       "[37]  0.0147522   0.232659        3\n",
       "[38]  0.0134417   0.232761        3\n",
       "[39]  0.0122475   0.232846        3\n",
       "[40]  0.0111595   0.232916        3\n",
       "[41]  0.0101681   0.232975        3\n",
       "[42]  0.00926481  0.233024        3\n",
       "[43]  0.00844175  0.233064        3\n",
       "[44]  0.00769181  0.233098        3\n",
       "[45]  0.00700849  0.233126        3\n",
       "[46]  0.00638588  0.233149        3\n",
       "[47]  0.00581857  0.233168        3\n",
       "[48]  0.00530167  0.233184        3\n",
       "[49]  0.00483068  0.233197        3\n",
       "[50]  0.00440154  0.233208        3\n",
       "[51]  0.00401052  0.233218        3\n",
       "───────────────────────────────────, Poisson GammaLassoPath (52) solutions for 4 predictors in 246 iterations):\n",
       "─────────────────────────────────────\n",
       "               λ      pct_dev  ncoefs\n",
       "─────────────────────────────────────\n",
       " [1]  0.630683    3.49498e-13       1\n",
       " [2]  0.574655    0.0368374         1\n",
       " [3]  0.523604    0.068304          2\n",
       " [4]  0.477088    0.111223          2\n",
       " [5]  0.434705    0.146782          2\n",
       " [6]  0.396087    0.176252          2\n",
       " [7]  0.3609      0.200683          2\n",
       " [8]  0.328839    0.220941          2\n",
       " [9]  0.299625    0.237741          2\n",
       "[10]  0.273008    0.255802          3\n",
       "[11]  0.248754    0.273247          3\n",
       "[12]  0.226656    0.287713          3\n",
       "[13]  0.20652     0.29971           3\n",
       "[14]  0.188174    0.309662          3\n",
       "[15]  0.171457    0.317918          3\n",
       "[16]  0.156225    0.324767          3\n",
       "[17]  0.142346    0.33045           3\n",
       "[18]  0.129701    0.335166          3\n",
       "[19]  0.118178    0.339079          3\n",
       "[20]  0.10768     0.342326          3\n",
       "[21]  0.0981138   0.345021          3\n",
       "[22]  0.0893977   0.347258          3\n",
       "[23]  0.0814558   0.349114          3\n",
       "[24]  0.0742195   0.350655          3\n",
       "[25]  0.0676261   0.351934          3\n",
       "[26]  0.0616183   0.352995          3\n",
       "[27]  0.0561443   0.353876          3\n",
       "[28]  0.0511566   0.354608          3\n",
       "[29]  0.046612    0.355215          3\n",
       "[30]  0.0424711   0.355719          3\n",
       "[31]  0.0386981   0.356137          3\n",
       "[32]  0.0352603   0.356485          3\n",
       "[33]  0.0321279   0.356773          3\n",
       "[34]  0.0292737   0.357012          3\n",
       "[35]  0.0266731   0.357211          3\n",
       "[36]  0.0243035   0.357376          3\n",
       "[37]  0.0221445   0.357513          3\n",
       "[38]  0.0201772   0.357626          3\n",
       "[39]  0.0183847   0.357721          3\n",
       "[40]  0.0167515   0.357799          3\n",
       "[41]  0.0152633   0.357864          3\n",
       "[42]  0.0139074   0.357918          3\n",
       "[43]  0.0126719   0.357963          3\n",
       "[44]  0.0115462   0.358             3\n",
       "[45]  0.0105204   0.358031          3\n",
       "[46]  0.00958582  0.358057          3\n",
       "[47]  0.00873424  0.358078          3\n",
       "[48]  0.00795832  0.358096          3\n",
       "[49]  0.00725132  0.35811           3\n",
       "[50]  0.00660713  0.358123          3\n",
       "[51]  0.00602017  0.358133          3\n",
       "[52]  0.00548536  0.358141          3\n",
       "─────────────────────────────────────], true, 100, 4, 3)"
      ]
     },
     "execution_count": 6,
     "metadata": {},
     "output_type": "execute_result"
    }
   ],
   "source": [
    "paths = fit(DMRPaths, mf, covarsdf, counts)"
   ]
  },
  {
   "cell_type": "markdown",
   "metadata": {},
   "source": [
    "we can now select, for example the coefficients that minimize 10-fold CV mse (takes a while)"
   ]
  },
  {
   "cell_type": "code",
   "execution_count": 7,
   "metadata": {},
   "outputs": [
    {
     "data": {
      "text/plain": [
       "4×4 Array{Float64,2}:\n",
       " -2.15703  -0.670327  -0.631308  -0.756541\n",
       " -1.60526  -2.31103   -0.898109   0.365359\n",
       " -0.64499  -2.25979   -0.318847   0.198874\n",
       " -1.94172  -1.22852   -1.22846    0.371721"
      ]
     },
     "execution_count": 7,
     "metadata": {},
     "output_type": "execute_result"
    }
   ],
   "source": [
    "coef(paths, MinCVKfold{MinCVmse}(10))"
   ]
  },
  {
   "cell_type": "markdown",
   "metadata": {},
   "source": [
    "## Hurdle Distributed Multinomial Regression (HDMR)\n",
    "\n",
    "For highly sparse counts, as is often the case with text that is selected for\n",
    "various reasons, the Hurdle Distributed Multinomial Regression (HDMR) model of\n",
    "Kelly, Manela, and Moreira (2018), may be superior to the DMR. It approximates\n",
    "a higher dispersion Multinomial using distributed (independent, parallel)\n",
    "Hurdle regressions, one for each of the d categories (columns) of a large `counts` matrix,\n",
    "on the `covars`. It allows a potentially different sets of covariates to explain\n",
    "category inclusion ($h=1{c>0}$), and repetition ($c>0$).\n",
    "\n",
    "Both the model for zeroes and for positive counts are regularized by default,\n",
    "using `GammaLassoPath`, picking the AICc optimal segment of the regularization\n",
    "path.\n",
    "\n",
    "HDMR can be fitted:"
   ]
  },
  {
   "cell_type": "code",
   "execution_count": 8,
   "metadata": {},
   "outputs": [
    {
     "name": "stderr",
     "output_type": "stream",
     "text": [
      "┌ Info: fitting 100 observations on 4 categories \n",
      "│ 2 covariates for positive and 3 for zero counts\n",
      "└ @ HurdleDMR /home/root/.julia/dev/HurdleDMR/src/hdmr.jl:468\n",
      "┌ Info: distributed InclusionRepetition run on local cluster with 4 nodes\n",
      "└ @ HurdleDMR /home/root/.julia/dev/HurdleDMR/src/hdmr.jl:481\n"
     ]
    },
    {
     "data": {
      "text/plain": [
       "HDMRCoefs{InclusionRepetition,Array{Float64,2},MinAICc,UnitRange{Int64}}([0.0 -2.48491 -0.505547 -0.23561; 0.0 0.0 -2.65019 0.203207; 0.0 0.0 -0.491465 0.0], [-2.59356 1.23117 1.73801 -13.9022; 0.0 -2.17746 0.0 38.1537; 0.0 -2.89271 0.0 423.955; 0.0 -1.23601 -1.85064 -19.9601], true, 100, 4, 1:2, 1:3, MinAICc(2))"
      ]
     },
     "execution_count": 8,
     "metadata": {},
     "output_type": "execute_result"
    }
   ],
   "source": [
    "m = hdmr(covars, counts; inpos=1:2, inzero=1:3)"
   ]
  },
  {
   "cell_type": "markdown",
   "metadata": {},
   "source": [
    "or with a dataframe and formula"
   ]
  },
  {
   "cell_type": "code",
   "execution_count": 9,
   "metadata": {},
   "outputs": [
    {
     "name": "stderr",
     "output_type": "stream",
     "text": [
      "┌ Info: fitting 100 observations on 4 categories \n",
      "│ 2 covariates for positive and 3 for zero counts\n",
      "└ @ HurdleDMR /home/root/.julia/dev/HurdleDMR/src/hdmr.jl:468\n",
      "┌ Info: distributed InclusionRepetition run on local cluster with 4 nodes\n",
      "└ @ HurdleDMR /home/root/.julia/dev/HurdleDMR/src/hdmr.jl:481\n"
     ]
    },
    {
     "data": {
      "text/plain": [
       "HDMRCoefs{InclusionRepetition,Array{Float64,2},MinAICc,Array{Int64,1}}([0.0 -2.48491 -0.505547 -0.23561; 0.0 0.0 -2.65019 0.203207; 0.0 0.0 -0.491465 0.0], [-2.59356 1.23117 1.73801 -13.9022; 0.0 -2.17746 0.0 38.1537; 0.0 -2.89271 0.0 423.955; 0.0 -1.23601 -1.85064 -19.9601], true, 100, 4, [1, 2], [1, 2, 3], MinAICc(2))"
      ]
     },
     "execution_count": 9,
     "metadata": {},
     "output_type": "execute_result"
    }
   ],
   "source": [
    "mf = @model(h ~ vy + v1 + v2, c ~ vy + v1)\n",
    "m = fit(HDMR, mf, covarsdf, counts)"
   ]
  },
  {
   "cell_type": "markdown",
   "metadata": {},
   "source": [
    "where the h ~ equation is the model for zeros (hurdle crossing) and c ~ is the model for positive counts\n",
    "\n",
    "in either case we can get the coefficients matrix for each variable + intercept as usual with"
   ]
  },
  {
   "cell_type": "code",
   "execution_count": 10,
   "metadata": {},
   "outputs": [
    {
     "data": {
      "text/plain": [
       "([0.0 -2.48491 -0.505547 -0.23561; 0.0 0.0 -2.65019 0.203207; 0.0 0.0 -0.491465 0.0], [-2.59356 1.23117 1.73801 -13.9022; 0.0 -2.17746 0.0 38.1537; 0.0 -2.89271 0.0 423.955; 0.0 -1.23601 -1.85064 -19.9601])"
      ]
     },
     "execution_count": 10,
     "metadata": {},
     "output_type": "execute_result"
    }
   ],
   "source": [
    "coefspos, coefszero = coef(m)"
   ]
  },
  {
   "cell_type": "markdown",
   "metadata": {},
   "source": [
    "By default we only return the AICc maximizing coefficients.\n",
    "To also get back the entire regulatrization paths, run"
   ]
  },
  {
   "cell_type": "code",
   "execution_count": 11,
   "metadata": {
    "scrolled": true
   },
   "outputs": [
    {
     "name": "stderr",
     "output_type": "stream",
     "text": [
      "┌ Info: fitting 100 observations on 4 categories \n",
      "│ 2 covariates for positive and 3 for zero counts\n",
      "└ @ HurdleDMR /home/root/.julia/dev/HurdleDMR/src/hdmr.jl:281\n",
      "┌ Info: distributed InclusionRepetition run on remote cluster with 4 nodes\n",
      "└ @ HurdleDMR /home/root/.julia/dev/HurdleDMR/src/hdmr.jl:312\n"
     ]
    },
    {
     "data": {
      "text/plain": [
       "([0.0 0.0 0.0; 0.0 0.0 0.0; … ; 0.0 0.0 0.0; 0.0 0.0 0.0]\n",
       "\n",
       "[-2.48491 0.0 0.0; -2.41917 -0.199534 0.0; … ; 0.0 0.0 0.0; 0.0 0.0 0.0]\n",
       "\n",
       "[-1.78805 0.0 0.0; -1.69583 -0.197051 0.0; … ; 0.0 0.0 0.0; 0.0 0.0 0.0]\n",
       "\n",
       "[-0.133883 3.92431e-7 0.0; -0.149695 0.0319783 0.0; … ; 0.0 0.0 0.0; 0.0 0.0 0.0], [-2.59356 0.0 0.0 0.0; -2.54089 0.0 0.0 -0.121014; … ; 0.0 0.0 0.0 0.0; 0.0 0.0 0.0 0.0]\n",
       "\n",
       "[-1.5251 0.0 0.0 0.0; -1.43208 0.0 -0.192178 0.0; … ; 0.0 0.0 0.0 0.0; 0.0 0.0 0.0 0.0]\n",
       "\n",
       "[0.670484 0.0 0.0 -4.29912e-8; 0.762441 0.0 0.0 -0.163359; … ; 0.0 0.0 0.0 0.0; 0.0 0.0 0.0 0.0]\n",
       "\n",
       "[4.94744 0.0 0.0 0.0; 4.64738 0.0 0.592183 0.0; … ; -13.6801 37.63 417.646 -19.6945; -13.9022 38.1537 423.955 -19.9601])"
      ]
     },
     "execution_count": 11,
     "metadata": {},
     "output_type": "execute_result"
    }
   ],
   "source": [
    "paths = fit(HDMRPaths, mf, covarsdf, counts)\n",
    "\n",
    "coef(paths, AllSeg())"
   ]
  },
  {
   "cell_type": "markdown",
   "metadata": {},
   "source": [
    "## Sufficient reduction projection\n",
    "\n",
    "A sufficient reduction projection summarizes the counts, much like a sufficient\n",
    "statistic, and is useful for reducing the d dimensional counts in a potentially\n",
    "much lower dimension matrix `z`.\n",
    "\n",
    "To get a sufficient reduction projection in direction of vy for the above\n",
    "example"
   ]
  },
  {
   "cell_type": "code",
   "execution_count": 12,
   "metadata": {},
   "outputs": [
    {
     "data": {
      "text/plain": [
       "100×4 Array{Float64,2}:\n",
       " -0.367472   19.0768   10.0  2.0\n",
       " -0.0821325  19.0768   10.0  2.0\n",
       "  0.203207   38.1537    3.0  1.0\n",
       " -0.158994   11.9921    9.0  3.0\n",
       "  0.135472   11.9921    6.0  3.0\n",
       "  0.203207   38.1537    7.0  1.0\n",
       " -0.670108   11.9921    7.0  3.0\n",
       " -0.204421   19.0768    7.0  2.0\n",
       " -0.153467   19.0768    8.0  2.0\n",
       " -0.430881   19.0768    9.0  2.0\n",
       " -0.113837   19.0768    9.0  2.0\n",
       "  0.203207   38.1537    4.0  1.0\n",
       "  0.203207   38.1537    4.0  1.0\n",
       "  ⋮                             \n",
       " -1.01943     8.99406   5.0  4.0\n",
       "  0.203207   38.1537    4.0  1.0\n",
       " -1.22349    19.0768    4.0  2.0\n",
       " -0.747925   19.0768    6.0  2.0\n",
       " -0.367472   19.0768    5.0  2.0\n",
       " -0.510142   19.0768    4.0  2.0\n",
       " -0.315592   19.0768   11.0  2.0\n",
       " -0.233451   11.9921    7.0  3.0\n",
       " -1.24889    12.7179    8.0  3.0\n",
       " -1.22349    19.0768    2.0  2.0\n",
       " -1.22349    19.0768    6.0  2.0\n",
       " -0.612049   19.0768    7.0  2.0"
      ]
     },
     "execution_count": 12,
     "metadata": {},
     "output_type": "execute_result"
    }
   ],
   "source": [
    "z = srproj(m,counts,1,1)"
   ]
  },
  {
   "cell_type": "markdown",
   "metadata": {},
   "source": [
    "Here, the first column is the SR projection from the model for positive counts, the second is the the SR projection from the model for hurdle crossing (zeros), and the third is the total count for each observation."
   ]
  },
  {
   "cell_type": "markdown",
   "metadata": {},
   "source": [
    "## Counts Inverse Regression (CIR)\n",
    "\n",
    "Counts inverse regression allows us to predict a covariate with the counts and other covariates.\n",
    "Here we use hdmr for the backward regression and another model for the forward regression.\n",
    "This can be accomplished with a single command, by fitting a CIR{HDMR,FM} where the forward model is FM <: RegressionModel."
   ]
  },
  {
   "cell_type": "code",
   "execution_count": 13,
   "metadata": {},
   "outputs": [
    {
     "name": "stderr",
     "output_type": "stream",
     "text": [
      "┌ Info: fitting 100 observations on 4 categories \n",
      "│ 2 covariates for positive and 3 for zero counts\n",
      "└ @ HurdleDMR /home/root/.julia/dev/HurdleDMR/src/hdmr.jl:468\n",
      "┌ Info: distributed InclusionRepetition run on local cluster with 4 nodes\n",
      "└ @ HurdleDMR /home/root/.julia/dev/HurdleDMR/src/hdmr.jl:481\n"
     ]
    },
    {
     "data": {
      "text/plain": [
       "CIR{HDMR,LinearModel}(1, [1, 2], HDMRCoefs{InclusionRepetition,Array{Float64,2},MinAICc,Array{Int64,1}}([0.0 -2.48491 -0.505547 -0.23561; 0.0 0.0 -2.65019 0.203207; 0.0 0.0 -0.491465 0.0], [-2.59356 1.23117 1.73801 -13.9022; 0.0 -2.17746 0.0 38.1537; 0.0 -2.89271 0.0 423.955; 0.0 -1.23601 -1.85064 -19.9601], true, 100, 4, [1, 2], [1, 2, 3], MinAICc(2)), LinearModel{GLM.LmResp{Array{Float64,1}},GLM.DensePredChol{Float64,Cholesky{Float64,Array{Float64,2}}}}:\n",
       "\n",
       "Coefficients:\n",
       "─────────────────────────────────────────────────────────────────────────\n",
       "       Estimate  Std. Error    t value  Pr(>|t|)    Lower 95%   Upper 95%\n",
       "─────────────────────────────────────────────────────────────────────────\n",
       "x1   0.806879    0.254456     3.171       0.0021   0.30158     1.31218   \n",
       "x2  -0.103535    0.096488    -1.07304     0.2860  -0.295142    0.0880707 \n",
       "x3  -0.115557    0.103506    -1.11642     0.2671  -0.321099    0.0899861 \n",
       "x4   0.154634    0.0814074    1.89951     0.0606  -0.00702506  0.316293  \n",
       "x5  -0.00108295  0.00500668  -0.216302    0.8292  -0.0110252   0.00885932\n",
       "x6   0.00588134  0.012264     0.479563    0.6327  -0.0184725   0.0302351 \n",
       "x7  -0.0905476   0.0652975   -1.38669     0.1689  -0.220216    0.0391203 \n",
       "─────────────────────────────────────────────────────────────────────────\n",
       ", LinearModel{GLM.LmResp{Array{Float64,1}},GLM.DensePredChol{Float64,Cholesky{Float64,Array{Float64,2}}}}:\n",
       "\n",
       "Coefficients:\n",
       "─────────────────────────────────────────────────────────────────────\n",
       "      Estimate  Std. Error    t value  Pr(>|t|)  Lower 95%  Upper 95%\n",
       "─────────────────────────────────────────────────────────────────────\n",
       "x1   0.456718    0.0713401   6.40198     <1e-8    0.315127   0.598308\n",
       "x2  -0.0414989   0.0975448  -0.425434    0.6715  -0.235098   0.152101\n",
       "x3   0.0921372   0.0909831   1.01269     0.3137  -0.088439   0.272713\n",
       "─────────────────────────────────────────────────────────────────────\n",
       ")"
      ]
     },
     "execution_count": 13,
     "metadata": {},
     "output_type": "execute_result"
    }
   ],
   "source": [
    "cir = fit(CIR{HDMR,LinearModel},mf,covarsdf,counts,:vy; nocounts=true)"
   ]
  },
  {
   "cell_type": "markdown",
   "metadata": {},
   "source": [
    "where the ```nocounts=true``` means we also fit a benchmark model without counts.\n",
    "\n",
    "we can get the forward and backward model coefficients with"
   ]
  },
  {
   "cell_type": "code",
   "execution_count": 14,
   "metadata": {},
   "outputs": [
    {
     "data": {
      "text/plain": [
       "([0.0 -2.48491 -0.505547 -0.23561; 0.0 0.0 -2.65019 0.203207; 0.0 0.0 -0.491465 0.0], [-2.59356 1.23117 1.73801 -13.9022; 0.0 -2.17746 0.0 38.1537; 0.0 -2.89271 0.0 423.955; 0.0 -1.23601 -1.85064 -19.9601])"
      ]
     },
     "execution_count": 14,
     "metadata": {},
     "output_type": "execute_result"
    }
   ],
   "source": [
    "coefbwd(cir)"
   ]
  },
  {
   "cell_type": "code",
   "execution_count": 15,
   "metadata": {},
   "outputs": [
    {
     "data": {
      "text/plain": [
       "7-element Array{Float64,1}:\n",
       "  0.8068791910919334   \n",
       " -0.10353546049021634  \n",
       " -0.11555664427731226  \n",
       "  0.1546339871132811   \n",
       " -0.0010829538468236821\n",
       "  0.005881340629811088 \n",
       " -0.0905476479689421   "
      ]
     },
     "execution_count": 15,
     "metadata": {},
     "output_type": "execute_result"
    }
   ],
   "source": [
    "coeffwd(cir)"
   ]
  },
  {
   "cell_type": "markdown",
   "metadata": {},
   "source": [
    "The fitted model can be used to predict vy with new data"
   ]
  },
  {
   "cell_type": "code",
   "execution_count": 16,
   "metadata": {},
   "outputs": [
    {
     "data": {
      "text/plain": [
       "10-element Array{Union{Missing, Float64},1}:\n",
       " 0.4698993353328307 \n",
       " 0.45963979129838384\n",
       " 0.5782657496603597 \n",
       " 0.484620220504942  \n",
       " 0.5023887465911144 \n",
       " 0.5914871966842338 \n",
       " 0.40669982045527   \n",
       " 0.5011220105167319 \n",
       " 0.4811118616060238 \n",
       " 0.5030932551174164 "
      ]
     },
     "execution_count": 16,
     "metadata": {},
     "output_type": "execute_result"
    }
   ],
   "source": [
    "yhat = predict(cir, covarsdf[1:10,:], counts[1:10,:])"
   ]
  },
  {
   "cell_type": "markdown",
   "metadata": {},
   "source": [
    "We can also predict only with the other covariates, which in this case\n",
    "is just a linear regression"
   ]
  },
  {
   "cell_type": "code",
   "execution_count": 17,
   "metadata": {},
   "outputs": [
    {
     "data": {
      "text/plain": [
       "10-element Array{Union{Missing, Float64},1}:\n",
       " 0.45731660084749226\n",
       " 0.5179985510761541 \n",
       " 0.4807768729723196 \n",
       " 0.47254808567420575\n",
       " 0.47267552235044974\n",
       " 0.48519627697522144\n",
       " 0.4799151241219515 \n",
       " 0.44186379731084846\n",
       " 0.4592317510593359 \n",
       " 0.4232136851484049 "
      ]
     },
     "execution_count": 17,
     "metadata": {},
     "output_type": "execute_result"
    }
   ],
   "source": [
    "yhat_nocounts = predict(cir, covarsdf[1:10,:], counts[1:10,:]; nocounts=true)"
   ]
  },
  {
   "cell_type": "markdown",
   "metadata": {},
   "source": [
    "Kelly, Manela, and Moreira (2018) show that the differences between DMR and HDMR can be substantial in some cases, especially when the counts data is highly sparse.\n",
    "\n",
    "Please reference the paper for additional details and example applications."
   ]
  }
 ],
 "metadata": {
  "@webio": {
   "lastCommId": null,
   "lastKernelId": null
  },
  "kernelspec": {
   "display_name": "Julia 1.1.1",
   "language": "julia",
   "name": "julia-1.1"
  },
  "language_info": {
   "file_extension": ".jl",
   "mimetype": "application/julia",
   "name": "julia",
   "version": "1.1.1"
  }
 },
 "nbformat": 4,
 "nbformat_minor": 2
}
