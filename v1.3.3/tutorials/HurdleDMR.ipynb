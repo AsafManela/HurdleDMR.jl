{
 "cells": [
  {
   "cell_type": "markdown",
   "metadata": {},
   "source": [
    "# HurdleDMR\n",
    "\n",
    "HurdleDMR.jl is a Julia implementation of the Hurdle Distributed Multinomial Regression (HDMR), as described in:\n",
    "\n",
    "[Bryan Kelly, Asaf Manela & Alan Moreira (2021)](https://doi.org/10.1080/07350015.2021.1947843) Text Selection, Journal of Business & Economic Statistics [(ungated preprint)](https://papers.ssrn.com/sol3/papers.cfm?abstract_id=3491942).\n",
    "\n",
    "It includes a Julia implementation of the Distributed Multinomial Regression (DMR) model of [Taddy (2015)](https://arxiv.org/abs/1311.6139).\n",
    "\n",
    "This tutorial explains how to use this package.\n",
    "\n",
    "## Setup\n",
    "\n",
    "### Install Julia\n",
    "\n",
    "First, install Julia itself. The easiest way to do that is to get the latest stable release from the official [download page](https://julialang.org/downloads/). An alternative is to install [JuliaPro](https://juliacomputing.com/products/juliapro/).\n",
    "\n",
    "Once installed, open julia, press `]` to activate package manager and add the following packages:\n",
    "```\n",
    "pkg> add HurdleDMR\n",
    "```\n",
    "\n",
    "To run this tutorial which is in a jupyter notebook, you may need to add the [IJulia package](https://github.com/JuliaLang/IJulia.jl) too.\n",
    "\n",
    "Here, this first cell installs all the packages used by this notebook in a temporary environment to avoid interference from previously installed packages:"
   ]
  },
  {
   "cell_type": "code",
   "execution_count": 1,
   "metadata": {
    "scrolled": true
   },
   "outputs": [
    {
     "name": "stderr",
     "output_type": "stream",
     "text": [
      "\u001b[32m\u001b[1m Activating\u001b[22m\u001b[39m new environment at `/tmp/jl_FPZAVB/Project.toml`\n",
      "\u001b[32m\u001b[1m   Updating\u001b[22m\u001b[39m registry at `~/.julia/registries/General`\n",
      "\u001b[32m\u001b[1m   Updating\u001b[22m\u001b[39m registry at `~/.julia/registries/ManelaLabRegistry`\n"
     ]
    },
    {
     "name": "stdout",
     "output_type": "stream",
     "text": [
      "\u001b[?25l\u001b[2K"
     ]
    },
    {
     "name": "stderr",
     "output_type": "stream",
     "text": [
      "\u001b[32m\u001b[1m   Updating\u001b[22m\u001b[39m git-repo `git@gitlab.com:ManelaLab/ManelaLabRegistry.git`\n"
     ]
    },
    {
     "name": "stdout",
     "output_type": "stream",
     "text": [
      "\u001b[?25h"
     ]
    },
    {
     "name": "stderr",
     "output_type": "stream",
     "text": [
      "\u001b[32m\u001b[1m  Resolving\u001b[22m\u001b[39m package versions...\n",
      "\u001b[32m\u001b[1mUpdating\u001b[22m\u001b[39m `/tmp/jl_FPZAVB/Project.toml`\n",
      " \u001b[90m [336ed68f] \u001b[39m\u001b[92m+ CSV v0.8.2\u001b[39m\n",
      " \u001b[90m [124859b0] \u001b[39m\u001b[92m+ DataDeps v0.7.6\u001b[39m\n",
      " \u001b[90m [a93c6f00] \u001b[39m\u001b[92m+ DataFrames v0.22.2\u001b[39m\n",
      " \u001b[90m [bd2a388e] \u001b[39m\u001b[92m+ FamaFrenchData v0.3.0\u001b[39m\n",
      " \u001b[90m [f9e53bcf] \u001b[39m\u001b[92m+ HurdleDMR v1.3.2\u001b[39m\n",
      " \u001b[90m [b4fcebef] \u001b[39m\u001b[92m+ Lasso v0.6.0\u001b[39m\n",
      " \u001b[90m [a2db99b7] \u001b[39m\u001b[92m+ TextAnalysis v0.7.2\u001b[39m\n",
      " \u001b[90m [2f01184e] \u001b[39m\u001b[92m+ SparseArrays\u001b[39m\n",
      "\u001b[32m\u001b[1mUpdating\u001b[22m\u001b[39m `/tmp/jl_FPZAVB/Manifest.toml`\n",
      " \u001b[90m [621f4979] \u001b[39m\u001b[92m+ AbstractFFTs v1.0.0\u001b[39m\n",
      " \u001b[90m [79e6a3ab] \u001b[39m\u001b[92m+ Adapt v2.4.0\u001b[39m\n",
      " \u001b[90m [56f22d72] \u001b[39m\u001b[92m+ Artifacts v1.3.0\u001b[39m\n",
      " \u001b[90m [b99e7846] \u001b[39m\u001b[92m+ BinaryProvider v0.5.10\u001b[39m\n",
      " \u001b[90m [336ed68f] \u001b[39m\u001b[92m+ CSV v0.8.2\u001b[39m\n",
      " \u001b[90m [324d7699] \u001b[39m\u001b[92m+ CategoricalArrays v0.9.0\u001b[39m\n",
      " \u001b[90m [34da2185] \u001b[39m\u001b[92m+ Compat v3.25.0\u001b[39m\n",
      " \u001b[90m [e66e0078] \u001b[39m\u001b[92m+ CompilerSupportLibraries_jll v0.3.4+0\u001b[39m\n",
      " \u001b[90m [a8cc5b0e] \u001b[39m\u001b[92m+ Crayons v4.0.4\u001b[39m\n",
      " \u001b[90m [717857b8] \u001b[39m\u001b[92m+ DSP v0.6.10\u001b[39m\n",
      " \u001b[90m [9a962f9c] \u001b[39m\u001b[92m+ DataAPI v1.4.0\u001b[39m\n",
      " \u001b[90m [124859b0] \u001b[39m\u001b[92m+ DataDeps v0.7.6\u001b[39m\n",
      " \u001b[90m [a93c6f00] \u001b[39m\u001b[92m+ DataFrames v0.22.2\u001b[39m\n",
      " \u001b[90m [864edb3b] \u001b[39m\u001b[92m+ DataStructures v0.18.8\u001b[39m\n",
      " \u001b[90m [e2d170a0] \u001b[39m\u001b[92m+ DataValueInterfaces v1.0.0\u001b[39m\n",
      " \u001b[90m [31c24e10] \u001b[39m\u001b[92m+ Distributions v0.24.10\u001b[39m\n",
      " \u001b[90m [e2ba6199] \u001b[39m\u001b[92m+ ExprTools v0.1.3\u001b[39m\n",
      " \u001b[90m [8f5d6c58] \u001b[39m\u001b[92m+ EzXML v1.1.0\u001b[39m\n",
      " \u001b[90m [7a1cc6ca] \u001b[39m\u001b[92m+ FFTW v1.3.1\u001b[39m\n",
      " \u001b[90m [f5851436] \u001b[39m\u001b[92m+ FFTW_jll v3.3.9+7\u001b[39m\n",
      " \u001b[90m [bd2a388e] \u001b[39m\u001b[92m+ FamaFrenchData v0.3.0\u001b[39m\n",
      " \u001b[90m [1a297f60] \u001b[39m\u001b[92m+ FillArrays v0.10.2\u001b[39m\n",
      " \u001b[90m [59287772] \u001b[39m\u001b[92m+ Formatting v0.4.2\u001b[39m\n",
      " \u001b[90m [38e38edf] \u001b[39m\u001b[92m+ GLM v1.3.11\u001b[39m\n",
      " \u001b[90m [7693890a] \u001b[39m\u001b[92m+ HTML_Entities v1.0.0\u001b[39m\n",
      " \u001b[90m [cd3eb016] \u001b[39m\u001b[92m+ HTTP v0.9.2\u001b[39m\n",
      " \u001b[90m [f9e53bcf] \u001b[39m\u001b[92m+ HurdleDMR v1.3.2\u001b[39m\n",
      " \u001b[90m [83e8ac13] \u001b[39m\u001b[92m+ IniFile v0.5.0\u001b[39m\n",
      " \u001b[90m [1d5cc7b8] \u001b[39m\u001b[92m+ IntelOpenMP_jll v2018.0.3+0\u001b[39m\n",
      " \u001b[90m [d8418881] \u001b[39m\u001b[92m+ Intervals v1.5.0\u001b[39m\n",
      " \u001b[90m [41ab1584] \u001b[39m\u001b[92m+ InvertedIndices v1.0.0\u001b[39m\n",
      " \u001b[90m [c8e1da08] \u001b[39m\u001b[92m+ IterTools v1.3.0\u001b[39m\n",
      " \u001b[90m [82899510] \u001b[39m\u001b[92m+ IteratorInterfaceExtensions v1.0.0\u001b[39m\n",
      " \u001b[90m [692b3bcd] \u001b[39m\u001b[92m+ JLLWrappers v1.2.0\u001b[39m\n",
      " \u001b[90m [682c06a0] \u001b[39m\u001b[92m+ JSON v0.21.1\u001b[39m\n",
      " \u001b[90m [984bce1d] \u001b[39m\u001b[92m+ LambertW v0.4.5\u001b[39m\n",
      " \u001b[90m [8ef0a80b] \u001b[39m\u001b[92m+ Languages v0.4.3\u001b[39m\n",
      " \u001b[90m [b4fcebef] \u001b[39m\u001b[92m+ Lasso v0.6.0\u001b[39m\n",
      " \u001b[90m [94ce4f54] \u001b[39m\u001b[92m+ Libiconv_jll v1.16.0+7\u001b[39m\n",
      " \u001b[90m [e6f89c97] \u001b[39m\u001b[92m+ LoggingExtras v0.4.2\u001b[39m\n",
      " \u001b[90m [856f044c] \u001b[39m\u001b[92m+ MKL_jll v2020.2.254+0\u001b[39m\n",
      " \u001b[90m [f0e99cf1] \u001b[39m\u001b[92m+ MLBase v0.8.0\u001b[39m\n",
      " \u001b[90m [739be429] \u001b[39m\u001b[92m+ MbedTLS v1.0.3\u001b[39m\n",
      " \u001b[90m [c8ffd9c3] \u001b[39m\u001b[92m+ MbedTLS_jll v2.16.8+1\u001b[39m\n",
      " \u001b[90m [e1d29d7a] \u001b[39m\u001b[92m+ Missings v0.4.4\u001b[39m\n",
      " \u001b[90m [78c3b35d] \u001b[39m\u001b[92m+ Mocking v0.7.1\u001b[39m\n",
      " \u001b[90m [6fe1bfb0] \u001b[39m\u001b[92m+ OffsetArrays v1.5.0\u001b[39m\n",
      " \u001b[90m [efe28fd5] \u001b[39m\u001b[92m+ OpenSpecFun_jll v0.5.3+4\u001b[39m\n",
      " \u001b[90m [bac558e1] \u001b[39m\u001b[92m+ OrderedCollections v1.3.2\u001b[39m\n",
      " \u001b[90m [90014a1f] \u001b[39m\u001b[92m+ PDMats v0.10.1\u001b[39m\n",
      " \u001b[90m [69de0a69] \u001b[39m\u001b[92m+ Parsers v1.0.15\u001b[39m\n",
      " \u001b[90m [f27b6e38] \u001b[39m\u001b[92m+ Polynomials v1.2.0\u001b[39m\n",
      " \u001b[90m [2dfb63ee] \u001b[39m\u001b[92m+ PooledArrays v0.5.3\u001b[39m\n",
      " \u001b[90m [08abe8d2] \u001b[39m\u001b[92m+ PrettyTables v0.10.1\u001b[39m\n",
      " \u001b[90m [1fd47b50] \u001b[39m\u001b[92m+ QuadGK v2.4.1\u001b[39m\n",
      " \u001b[90m [3cdcf5f2] \u001b[39m\u001b[92m+ RecipesBase v1.1.1\u001b[39m\n",
      " \u001b[90m [189a3867] \u001b[39m\u001b[92m+ Reexport v0.2.0\u001b[39m\n",
      " \u001b[90m [79098fc4] \u001b[39m\u001b[92m+ Rmath v0.6.1\u001b[39m\n",
      " \u001b[90m [f50d1b31] \u001b[39m\u001b[92m+ Rmath_jll v0.2.2+1\u001b[39m\n",
      " \u001b[90m [91c51154] \u001b[39m\u001b[92m+ SentinelArrays v1.2.16\u001b[39m\n",
      " \u001b[90m [1277b4bf] \u001b[39m\u001b[92m+ ShiftedArrays v1.0.0\u001b[39m\n",
      " \u001b[90m [fb8f903a] \u001b[39m\u001b[92m+ Snowball v0.1.0\u001b[39m\n",
      " \u001b[90m [88f46535] \u001b[39m\u001b[92m+ Snowball_jll v2.0.0+0\u001b[39m\n",
      " \u001b[90m [a2af1166] \u001b[39m\u001b[92m+ SortingAlgorithms v0.3.1\u001b[39m\n",
      " \u001b[90m [276daf66] \u001b[39m\u001b[92m+ SpecialFunctions v0.10.3\u001b[39m\n",
      " \u001b[90m [2913bbd2] \u001b[39m\u001b[92m+ StatsBase v0.33.2\u001b[39m\n",
      " \u001b[90m [4c63d2b9] \u001b[39m\u001b[92m+ StatsFuns v0.9.6\u001b[39m\n",
      " \u001b[90m [3eaba693] \u001b[39m\u001b[92m+ StatsModels v0.6.18\u001b[39m\n",
      " \u001b[90m [9700d1a9] \u001b[39m\u001b[92m+ StrTables v1.0.1\u001b[39m\n",
      " \u001b[90m [856f2bd8] \u001b[39m\u001b[92m+ StructTypes v1.2.1\u001b[39m\n",
      " \u001b[90m [3783bdb8] \u001b[39m\u001b[92m+ TableTraits v1.0.0\u001b[39m\n",
      " \u001b[90m [bd369af6] \u001b[39m\u001b[92m+ Tables v1.2.2\u001b[39m\n",
      " \u001b[90m [a2db99b7] \u001b[39m\u001b[92m+ TextAnalysis v0.7.2\u001b[39m\n",
      " \u001b[90m [f269a46b] \u001b[39m\u001b[92m+ TimeZones v1.5.3\u001b[39m\n",
      " \u001b[90m [5c2747f8] \u001b[39m\u001b[92m+ URIs v1.2.0\u001b[39m\n",
      " \u001b[90m [796a5d58] \u001b[39m\u001b[92m+ WordTokenizers v0.5.6\u001b[39m\n",
      " \u001b[90m [02c8fc9c] \u001b[39m\u001b[92m+ XML2_jll v2.9.10+3\u001b[39m\n",
      " \u001b[90m [a5390f91] \u001b[39m\u001b[92m+ ZipFile v0.9.3\u001b[39m\n",
      " \u001b[90m [83775a58] \u001b[39m\u001b[92m+ Zlib_jll v1.2.11+18\u001b[39m\n",
      " \u001b[90m [3f19e933] \u001b[39m\u001b[92m+ p7zip_jll v16.2.0+3\u001b[39m\n",
      " \u001b[90m [2a0f44e3] \u001b[39m\u001b[92m+ Base64\u001b[39m\n",
      " \u001b[90m [ade2ca70] \u001b[39m\u001b[92m+ Dates\u001b[39m\n",
      " \u001b[90m [8bb1440f] \u001b[39m\u001b[92m+ DelimitedFiles\u001b[39m\n",
      " \u001b[90m [8ba89e20] \u001b[39m\u001b[92m+ Distributed\u001b[39m\n",
      " \u001b[90m [9fa8497b] \u001b[39m\u001b[92m+ Future\u001b[39m\n",
      " \u001b[90m [b77e0a4c] \u001b[39m\u001b[92m+ InteractiveUtils\u001b[39m\n",
      " \u001b[90m [76f85450] \u001b[39m\u001b[92m+ LibGit2\u001b[39m\n",
      " \u001b[90m [8f399da3] \u001b[39m\u001b[92m+ Libdl\u001b[39m\n",
      " \u001b[90m [37e2e46d] \u001b[39m\u001b[92m+ LinearAlgebra\u001b[39m\n",
      " \u001b[90m [56ddb016] \u001b[39m\u001b[92m+ Logging\u001b[39m\n",
      " \u001b[90m [d6f4376e] \u001b[39m\u001b[92m+ Markdown\u001b[39m\n",
      " \u001b[90m [a63ad114] \u001b[39m\u001b[92m+ Mmap\u001b[39m\n",
      " \u001b[90m [44cfe95a] \u001b[39m\u001b[92m+ Pkg\u001b[39m\n",
      " \u001b[90m [de0858da] \u001b[39m\u001b[92m+ Printf\u001b[39m\n",
      " \u001b[90m [3fa0cd96] \u001b[39m\u001b[92m+ REPL\u001b[39m\n",
      " \u001b[90m [9a3f8284] \u001b[39m\u001b[92m+ Random\u001b[39m\n",
      " \u001b[90m [ea8e919c] \u001b[39m\u001b[92m+ SHA\u001b[39m\n",
      " \u001b[90m [9e88b42a] \u001b[39m\u001b[92m+ Serialization\u001b[39m\n",
      " \u001b[90m [1a1011a3] \u001b[39m\u001b[92m+ SharedArrays\u001b[39m\n",
      " \u001b[90m [6462fe0b] \u001b[39m\u001b[92m+ Sockets\u001b[39m\n",
      " \u001b[90m [2f01184e] \u001b[39m\u001b[92m+ SparseArrays\u001b[39m\n",
      " \u001b[90m [10745b16] \u001b[39m\u001b[92m+ Statistics\u001b[39m\n",
      " \u001b[90m [4607b0f0] \u001b[39m\u001b[92m+ SuiteSparse\u001b[39m\n",
      " \u001b[90m [8dfed614] \u001b[39m\u001b[92m+ Test\u001b[39m\n",
      " \u001b[90m [cf7118a7] \u001b[39m\u001b[92m+ UUIDs\u001b[39m\n",
      " \u001b[90m [4ec0a83e] \u001b[39m\u001b[92m+ Unicode\u001b[39m\n"
     ]
    }
   ],
   "source": [
    "import Pkg\n",
    "mytmpenv = mktempdir()\n",
    "Pkg.activate(mytmpenv)\n",
    "\n",
    "Pkg.add([\"HurdleDMR\",\n",
    "        \"Lasso\", \n",
    "        \"CSV\", \n",
    "        \"DataDeps\", \n",
    "        \"DataFrames\", \n",
    "        \"FamaFrenchData\", \n",
    "        \"TextAnalysis\", \n",
    "        \"SparseArrays\"])"
   ]
  },
  {
   "cell_type": "markdown",
   "metadata": {},
   "source": [
    "Add parallel workers and make package available to workers"
   ]
  },
  {
   "cell_type": "code",
   "execution_count": 2,
   "metadata": {},
   "outputs": [
    {
     "name": "stderr",
     "output_type": "stream",
     "text": [
      "\u001b[32m\u001b[1m Activating\u001b[22m\u001b[39m environment at `/tmp/jl_FPZAVB/Project.toml`\n"
     ]
    },
    {
     "name": "stdout",
     "output_type": "stream",
     "text": [
      "      From worker 4:\t Activating environment at `/tmp/jl_FPZAVB/Project.toml`\n",
      "      From worker 5:\t Activating environment at `/tmp/jl_FPZAVB/Project.toml`\n",
      "      From worker 3:\t Activating environment at `/tmp/jl_FPZAVB/Project.toml`\n",
      "      From worker 2:\t Activating environment at `/tmp/jl_FPZAVB/Project.toml`\n"
     ]
    }
   ],
   "source": [
    "using Distributed\n",
    "addprocs(4)\n",
    "@everywhere (import Pkg; Pkg.activate($mytmpenv)) # makes sure parallel workers use the same environment\n",
    "import HurdleDMR; @everywhere using HurdleDMR"
   ]
  },
  {
   "cell_type": "markdown",
   "metadata": {},
   "source": [
    "### Example Data\n",
    "\n",
    "The data should either be an n-by-p covars matrix or a DataFrame containing the covariates, and a (sparse) n-by-d counts matrix.\n",
    "\n",
    "For illustration we'll analyse the State of the Union text that is roughly annual and relate it to stock market returns.\n",
    "\n",
    "The `sotu.jl` script compiles stock market execss returns and the State of the Union Address texts into a matching DataFrame `covarsdf` and a sparse document-term matrix `counts`."
   ]
  },
  {
   "cell_type": "code",
   "execution_count": 3,
   "metadata": {},
   "outputs": [
    {
     "name": "stderr",
     "output_type": "stream",
     "text": [
      "┌ Info: built SOTU corpus with 92 speeches\n",
      "└ @ Main /home/user/.julia/dev/HurdleDMR/docs/src/tutorials/sotu.jl:122\n",
      "┌ Info: built Document Term Matrix with bigrams occuring at least 20 times in the corpus\n",
      "└ @ Main /home/user/.julia/dev/HurdleDMR/docs/src/tutorials/sotu.jl:127\n",
      "┌ Info: SOTU + Rem loaded and saved to /home/user/.julia/datadeps/sotu\n",
      "└ @ Main /home/user/.julia/dev/HurdleDMR/docs/src/tutorials/sotu.jl:181\n"
     ]
    },
    {
     "data": {
      "text/plain": [
       "(\u001b[1m92×3 DataFrame\u001b[0m\n",
       "\u001b[1m Row \u001b[0m│\u001b[1m Date  \u001b[0m\u001b[1m Rem     \u001b[0m\u001b[1m President             \u001b[0m\n",
       "\u001b[1m     \u001b[0m│\u001b[90m Int64 \u001b[0m\u001b[90m Float64 \u001b[0m\u001b[90m String                \u001b[0m\n",
       "─────┼───────────────────────────────────────\n",
       "   1 │  1927    29.47  Calvin Coolidge\n",
       "   2 │  1928    35.39  Calvin Coolidge\n",
       "   3 │  1929   -19.54  Herbert Hoover\n",
       "   4 │  1930   -31.23  Herbert Hoover\n",
       "   5 │  1931   -45.11  Herbert Hoover\n",
       "   6 │  1932    -9.39  Herbert Hoover\n",
       "   7 │  1934     3.02  Franklin D. Roosevelt\n",
       "   8 │  1935    44.96  Franklin D. Roosevelt\n",
       "   9 │  1936    32.07  Franklin D. Roosevelt\n",
       "  10 │  1937   -34.96  Franklin D. Roosevelt\n",
       "  11 │  1938    28.48  Franklin D. Roosevelt\n",
       "  ⋮  │   ⋮       ⋮               ⋮\n",
       "  83 │  2010    17.37  Barack Obama\n",
       "  84 │  2011     0.44  Barack Obama\n",
       "  85 │  2012    16.27  Barack Obama\n",
       "  86 │  2013    35.2   Barack Obama\n",
       "  87 │  2014    11.71  Barack Obama\n",
       "  88 │  2015     0.08  Barack Obama\n",
       "  89 │  2016    13.3   Barack Obama\n",
       "  90 │  2017    21.51  Donald J. Trump\n",
       "  91 │  2018    -6.93  Donald J. Trump\n",
       "  92 │  2019    28.28  Donald J. Trump\n",
       "\u001b[31m                              71 rows omitted\u001b[0m, \n",
       "  [1 ,   1]  =  1\n",
       "  [18,   1]  =  2\n",
       "  [30,   1]  =  1\n",
       "  [34,   1]  =  1\n",
       "  [42,   1]  =  1\n",
       "  [47,   1]  =  1\n",
       "  [50,   1]  =  1\n",
       "  [54,   1]  =  16\n",
       "  [55,   1]  =  1\n",
       "  [74,   1]  =  1\n",
       "  [77,   1]  =  1\n",
       "  [82,   1]  =  1\n",
       "  ⋮\n",
       "  [49, 163]  =  2\n",
       "  [51, 163]  =  2\n",
       "  [53, 163]  =  2\n",
       "  [54, 163]  =  3\n",
       "  [57, 163]  =  1\n",
       "  [64, 163]  =  1\n",
       "  [69, 163]  =  2\n",
       "  [72, 163]  =  1\n",
       "  [77, 163]  =  1\n",
       "  [85, 163]  =  2\n",
       "  [88, 163]  =  1\n",
       "  [89, 163]  =  2\n",
       "  [92, 163]  =  2, [\"administration congress\", \"al qaeda\", \"american families\", \"american family\", \"american leadership\", \"american life\", \"american people\", \"american workers\", \"armed forces\", \"army navy\"  …  \"war ii\", \"weapons mass\", \"welfare reform\", \"welfare system\", \"western europe\", \"white house\", \"world economy\", \"world peace\", \"world trade\", \"world war\"])"
      ]
     },
     "execution_count": 3,
     "metadata": {},
     "output_type": "execute_result"
    }
   ],
   "source": [
    "include(\"sotu.jl\")"
   ]
  },
  {
   "cell_type": "markdown",
   "metadata": {},
   "source": [
    "## Distributed Multinomial Regression (DMR)\n",
    "\n",
    "The Distributed Multinomial Regression (DMR) model of Taddy (2015) is a highly scalable\n",
    "approximation to the Multinomial using distributed (independent, parallel)\n",
    "Poisson regressions, one for each of the d categories (columns) of a large `counts` matrix,\n",
    "on the `covarsdf`."
   ]
  },
  {
   "cell_type": "code",
   "execution_count": 4,
   "metadata": {},
   "outputs": [
    {
     "data": {
      "text/plain": [
       "(92, 163)"
      ]
     },
     "execution_count": 4,
     "metadata": {},
     "output_type": "execute_result"
    }
   ],
   "source": [
    "size(counts)"
   ]
  },
  {
   "cell_type": "code",
   "execution_count": 5,
   "metadata": {},
   "outputs": [
    {
     "data": {
      "text/plain": [
       "(92, 1)"
      ]
     },
     "execution_count": 5,
     "metadata": {},
     "output_type": "execute_result"
    }
   ],
   "source": [
    "covars = Matrix(covarsdf[:, [\"Rem\"]])\n",
    "size(covars)"
   ]
  },
  {
   "cell_type": "markdown",
   "metadata": {},
   "source": [
    "To fit a DMR:"
   ]
  },
  {
   "cell_type": "code",
   "execution_count": 6,
   "metadata": {},
   "outputs": [
    {
     "name": "stderr",
     "output_type": "stream",
     "text": [
      "┌ Info: fitting 92 observations on 163 categories, 1 covariates \n",
      "└ @ HurdleDMR /home/user/.julia/packages/HurdleDMR/zD6G8/src/dmr.jl:302\n",
      "┌ Info: distributed poisson run on local cluster with 4 nodes\n",
      "└ @ HurdleDMR /home/user/.julia/packages/HurdleDMR/zD6G8/src/dmr.jl:314\n"
     ]
    },
    {
     "data": {
      "text/plain": [
       "DMRCoefs{Array{Float64,2},MinAICc}([-5.433977770164587 -5.169034226440705 … -5.37899826953734 -4.430372688887225; -0.03460506144624849 -0.017470711240303454 … 0.007352225999870346 0.004405577373050878], true, 92, 163, 1, MinAICc(2))"
      ]
     },
     "execution_count": 6,
     "metadata": {},
     "output_type": "execute_result"
    }
   ],
   "source": [
    "m = dmr(covars, counts)"
   ]
  },
  {
   "cell_type": "markdown",
   "metadata": {},
   "source": [
    "or with a dataframe and formula:"
   ]
  },
  {
   "cell_type": "code",
   "execution_count": 7,
   "metadata": {},
   "outputs": [
    {
     "name": "stderr",
     "output_type": "stream",
     "text": [
      "┌ Info: fitting 92 observations on 163 categories, 1 covariates \n",
      "└ @ HurdleDMR /home/user/.julia/packages/HurdleDMR/zD6G8/src/dmr.jl:302\n",
      "┌ Info: distributed poisson run on local cluster with 4 nodes\n",
      "└ @ HurdleDMR /home/user/.julia/packages/HurdleDMR/zD6G8/src/dmr.jl:314\n"
     ]
    },
    {
     "data": {
      "text/plain": [
       "TableCountsRegressionModel{DMRCoefs{Array{Float64,2},MinAICc},DataFrame,SparseMatrixCSC{Int64,Int64}}\n",
       "\n",
       "1-part model: [c ~ Rem]\n"
      ]
     },
     "execution_count": 7,
     "metadata": {},
     "output_type": "execute_result"
    }
   ],
   "source": [
    "mf = @model(c ~ Rem)\n",
    "m = fit(DMR, mf, covarsdf, counts)"
   ]
  },
  {
   "cell_type": "markdown",
   "metadata": {},
   "source": [
    "in either case we can get the coefficients matrix for each variable + intercept as usual with"
   ]
  },
  {
   "cell_type": "code",
   "execution_count": 8,
   "metadata": {
    "scrolled": true
   },
   "outputs": [
    {
     "data": {
      "text/plain": [
       "2×163 Array{Float64,2}:\n",
       " -5.43398    -5.16903    -5.48346  -5.87732    …  -5.379       -4.43037\n",
       " -0.0346051  -0.0174707   0.0       0.0118823      0.00735223   0.00440558"
      ]
     },
     "execution_count": 8,
     "metadata": {},
     "output_type": "execute_result"
    }
   ],
   "source": [
    "coef(m)"
   ]
  },
  {
   "cell_type": "markdown",
   "metadata": {},
   "source": [
    "By default we only return the AICc maximizing coefficients.\n",
    "To also get back the entire regulatrization paths, run"
   ]
  },
  {
   "cell_type": "code",
   "execution_count": 9,
   "metadata": {},
   "outputs": [
    {
     "name": "stderr",
     "output_type": "stream",
     "text": [
      "┌ Info: fitting 92 observations on 163 categories, 1 covariates \n",
      "└ @ HurdleDMR /home/user/.julia/packages/HurdleDMR/zD6G8/src/dmr.jl:362\n",
      "┌ Info: distributed poisson run on remote cluster with 4 nodes\n",
      "└ @ HurdleDMR /home/user/.julia/packages/HurdleDMR/zD6G8/src/dmr.jl:384\n"
     ]
    },
    {
     "data": {
      "text/plain": [
       "TableCountsRegressionModel{DMRPaths,DataFrame,SparseMatrixCSC{Int64,Int64}}\n",
       "\n",
       "1-part model: [c ~ Rem]\n"
      ]
     },
     "execution_count": 9,
     "metadata": {},
     "output_type": "execute_result"
    }
   ],
   "source": [
    "paths = fit(DMRPaths, mf, covarsdf, counts)"
   ]
  },
  {
   "cell_type": "markdown",
   "metadata": {},
   "source": [
    "we can now select, for example the coefficients that minimize 10-fold CV mse (may take a while)"
   ]
  },
  {
   "cell_type": "code",
   "execution_count": 10,
   "metadata": {},
   "outputs": [
    {
     "data": {
      "text/plain": [
       "2×163 Array{Float64,2}:\n",
       " -5.44837      -5.23215  -5.48346  -5.87732    …  -5.31916      -4.39683\n",
       " -5.11703e-14   0.0       0.0       0.0118823      7.62288e-10   7.83015e-10"
      ]
     },
     "execution_count": 10,
     "metadata": {},
     "output_type": "execute_result"
    }
   ],
   "source": [
    "coef(paths, MinCVKfold{MinCVmse}(10))"
   ]
  },
  {
   "cell_type": "markdown",
   "metadata": {},
   "source": [
    "## Hurdle Distributed Multinomial Regression (HDMR)\n",
    "\n",
    "For highly sparse counts, as is often the case with text that is selected for\n",
    "various reasons, the Hurdle Distributed Multinomial Regression (HDMR) model of\n",
    "Kelly, Manela, and Moreira (2021), may be superior to the DMR. It approximates\n",
    "a higher dispersion Multinomial using distributed (independent, parallel)\n",
    "Hurdle regressions, one for each of the d categories (columns) of a large `counts` matrix,\n",
    "on the `covars`. It allows a potentially different sets of covariates to explain\n",
    "category inclusion ($h=1{c>0}$), and repetition ($c>0$) using the optional `inpos` and `inzero` keyword arguments.\n",
    "\n",
    "Both the model for zeroes and for positive counts are regularized by default,\n",
    "using `GammaLassoPath`, picking the AICc optimal segment of the regularization\n",
    "path.\n",
    "\n",
    "HDMR can be fitted:"
   ]
  },
  {
   "cell_type": "code",
   "execution_count": 11,
   "metadata": {},
   "outputs": [
    {
     "name": "stderr",
     "output_type": "stream",
     "text": [
      "┌ Info: fitting 92 observations on 163 categories \n",
      "│ 1 covariates for positive and 1 for zero counts\n",
      "└ @ HurdleDMR /home/user/.julia/packages/HurdleDMR/zD6G8/src/hdmr.jl:498\n",
      "┌ Info: distributed InclusionRepetition run on local cluster with 4 nodes\n",
      "└ @ HurdleDMR /home/user/.julia/packages/HurdleDMR/zD6G8/src/hdmr.jl:511\n"
     ]
    },
    {
     "data": {
      "text/plain": [
       "HDMRCoefs{InclusionRepetition,Array{Float64,2},MinAICc,UnitRange{Int64}}([-4.10095407845034 -2.463114021079464 … -4.9712845243783885 -3.9926360951822044; -0.02713335949136956 -0.03288064802519407 … 0.016349965746303912 0.025092391911020286], [-0.5918418471275423 -0.9311260670603407 … 0.15429960586669478 1.1944539960204115; 0.0 0.0032977922250339766 … 0.005415281988535716 -0.0033636080585655497], true, 92, 163, 1:1, 1:1, MinAICc(2))"
      ]
     },
     "execution_count": 11,
     "metadata": {},
     "output_type": "execute_result"
    }
   ],
   "source": [
    "m = hdmr(covars, counts)"
   ]
  },
  {
   "cell_type": "markdown",
   "metadata": {},
   "source": [
    "or with a dataframe and formula"
   ]
  },
  {
   "cell_type": "code",
   "execution_count": 12,
   "metadata": {},
   "outputs": [
    {
     "name": "stderr",
     "output_type": "stream",
     "text": [
      "┌ Info: fitting 92 observations on 163 categories \n",
      "│ 16 covariates for positive and 16 for zero counts\n",
      "└ @ HurdleDMR /home/user/.julia/packages/HurdleDMR/zD6G8/src/hdmr.jl:498\n",
      "┌ Info: distributed InclusionRepetition run on local cluster with 4 nodes\n",
      "└ @ HurdleDMR /home/user/.julia/packages/HurdleDMR/zD6G8/src/hdmr.jl:511\n"
     ]
    },
    {
     "data": {
      "text/plain": [
       "TableCountsRegressionModel{HDMRCoefs{InclusionRepetition,Array{Float64,2},MinAICc,Array{Int64,1}},DataFrame,SparseMatrixCSC{Int64,Int64}}\n",
       "\n",
       "2-part model: [h ~ Rem + President, c ~ Rem + President]\n"
      ]
     },
     "execution_count": 12,
     "metadata": {},
     "output_type": "execute_result"
    }
   ],
   "source": [
    "mf = @model(h ~ Rem + President, c ~ Rem + President)\n",
    "m = fit(HDMR, mf, covarsdf, counts)"
   ]
  },
  {
   "cell_type": "markdown",
   "metadata": {},
   "source": [
    "where the h ~ equation is the model for zeros (hurdle crossing) and c ~ is the model for positive counts\n",
    "\n",
    "in either case we can get the coefficients matrix for each variable + intercept as usual with"
   ]
  },
  {
   "cell_type": "code",
   "execution_count": 13,
   "metadata": {},
   "outputs": [
    {
     "data": {
      "text/plain": [
       "([-7.505779153456341 -3.282723357305929 … 0.0 -3.8422483146788986; 0.0 0.0 … 0.0 0.007227060912341828; … ; 0.0 0.0 … 0.0 0.0; 0.0 0.0 … 0.0 0.0], [-0.5918418471274728 2.2627069688748356 … 0.0 1.182793857457826; 0.0 0.0 … 0.0 0.0; … ; 0.0 -5.790836977953466 … 0.0 -0.5793429745060755; 0.0 -6.302814646916909 … 0.0 -0.6656455871872498])"
      ]
     },
     "execution_count": 13,
     "metadata": {},
     "output_type": "execute_result"
    }
   ],
   "source": [
    "coefspos, coefszero = coef(m)"
   ]
  },
  {
   "cell_type": "markdown",
   "metadata": {},
   "source": [
    "By default we only return the AICc maximizing coefficients.\n",
    "To also get back the entire regulatrization paths, run"
   ]
  },
  {
   "cell_type": "code",
   "execution_count": 14,
   "metadata": {
    "scrolled": true
   },
   "outputs": [
    {
     "name": "stderr",
     "output_type": "stream",
     "text": [
      "┌ Info: fitting 92 observations on 163 categories \n",
      "│ 16 covariates for positive and 16 for zero counts\n",
      "└ @ HurdleDMR /home/user/.julia/packages/HurdleDMR/zD6G8/src/hdmr.jl:310\n",
      "┌ Info: distributed InclusionRepetition run on remote cluster with 4 nodes\n",
      "└ @ HurdleDMR /home/user/.julia/packages/HurdleDMR/zD6G8/src/hdmr.jl:341\n"
     ]
    },
    {
     "data": {
      "text/plain": [
       "([-3.813582932615021 0.0 … 0.0 0.0; -3.853810880797987 0.0 … 0.0 0.0; … ; -7.459296254466469 0.0 … 0.0 0.0; -7.505779153456341 0.0 … 0.0 0.0]\n",
       "\n",
       "[-2.636306292658036 0.0 … 0.0 0.0; -2.66359923548162 0.0 … 0.0 0.0; … ; -3.330246398413737 -0.010344788429923752 … 0.0 0.0; -3.330502415345261 -0.010368918223518313 … 0.0 0.0]\n",
       "\n",
       "[-5.305434834316585 0.0 … 0.0 0.0; -5.30494210534174 0.0 … 0.0 0.0; … ; -4.55911691859083 -0.030603425600868865 … -7.501561722796674 -7.945381925771689; -4.5589970403005 -0.030603999923886308 … -7.594708346805521 -8.038529181375855]\n",
       "\n",
       "...\n",
       "\n",
       "[0.0 0.0 … 0.0 0.0; 0.0 0.0 … 0.0 0.0; … ; 0.0 0.0 … 0.0 0.0; 0.0 0.0 … 0.0 0.0]\n",
       "\n",
       "[0.0 0.0 … 0.0 0.0; 0.0 0.0 … 0.0 0.0; … ; 0.0 0.0 … 0.0 0.0; 0.0 0.0 … 0.0 0.0]\n",
       "\n",
       "[-3.8717217086546176 0.0 … 0.0 0.0; -3.856406187723185 0.0 … 0.0 0.0; … ; 0.0 0.0 … 0.0 0.0; 0.0 0.0 … 0.0 0.0], [-0.5918418471274729 0.0 … 0.0 0.0; -0.5800184432449021 0.0 … 0.0 -0.12726570066456563; … ; 0.0 0.0 … 0.0 0.0; 0.0 0.0 … 0.0 0.0]\n",
       "\n",
       "[-0.901336871518703 0.0 … 0.0 0.0; -0.9261859067147747 0.0 … 0.0 0.0; … ; 0.0 0.0 … 0.0 0.0; 0.0 0.0 … 0.0 0.0]\n",
       "\n",
       "[0.01871385751876236 0.0 … 0.0 0.0; 0.03268597629500669 0.0 … 0.0 0.0; … ; 0.0 0.0 … 0.0 0.0; 0.0 0.0 … 0.0 0.0]\n",
       "\n",
       "...\n",
       "\n",
       "[0.0 0.0 … 0.0 0.0; 0.0 0.0 … 0.0 0.0; … ; 0.0 0.0 … 0.0 0.0; 0.0 0.0 … 0.0 0.0]\n",
       "\n",
       "[0.0 0.0 … 0.0 0.0; 0.0 0.0 … 0.0 0.0; … ; 0.0 0.0 … 0.0 0.0; 0.0 0.0 … 0.0 0.0]\n",
       "\n",
       "[1.166655306957609 0.0 … 0.0 0.0; 1.1458708457174278 0.0 … 0.0 0.0; … ; 0.0 0.0 … 0.0 0.0; 0.0 0.0 … 0.0 0.0])"
      ]
     },
     "execution_count": 14,
     "metadata": {},
     "output_type": "execute_result"
    }
   ],
   "source": [
    "paths = fit(HDMRPaths, mf, covarsdf, counts)\n",
    "\n",
    "coef(paths, AllSeg())"
   ]
  },
  {
   "cell_type": "markdown",
   "metadata": {},
   "source": [
    "## Sufficient reduction projection\n",
    "\n",
    "A sufficient reduction projection summarizes the counts, much like a sufficient\n",
    "statistic, and is useful for reducing the d dimensional counts in a potentially\n",
    "much lower dimension matrix `z`.\n",
    "\n",
    "To get a sufficient reduction projection in direction of vy for the above\n",
    "example"
   ]
  },
  {
   "cell_type": "code",
   "execution_count": 15,
   "metadata": {},
   "outputs": [
    {
     "data": {
      "text/plain": [
       "92×4 Array{Float64,2}:\n",
       "  0.00411637    0.000362534  30.0  22.0\n",
       "  0.00318      -0.000217747  28.0  33.0\n",
       "  0.00667597   -0.000352564  44.0  34.0\n",
       "  0.00613306   -0.000705127  10.0  17.0\n",
       " -0.0244185    -0.000544871  17.0  22.0\n",
       " -0.00692207   -0.000359282  13.0  20.0\n",
       "  0.000594303   0.0           5.0  14.0\n",
       "  0.00586085    0.000569696   6.0  14.0\n",
       "  0.00420992    0.000419776   8.0  19.0\n",
       "  0.0          -8.88432e-5    4.0  17.0\n",
       " -0.00500263   -7.94913e-5   21.0  19.0\n",
       " -0.00431083    0.000379797  14.0  21.0\n",
       "  9.90504e-5    0.000705806  15.0  25.0\n",
       "  ⋮                                \n",
       " -0.00235882   -0.00205056   27.0  35.0\n",
       " -0.00262085    0.000219573  34.0  38.0\n",
       " -0.0103014     0.000108327  61.0  39.0\n",
       " -0.00615453    0.000338392  31.0  42.0\n",
       " -0.00872007    8.85187e-5   36.0  47.0\n",
       "  0.00123649    0.000137973  50.0  47.0\n",
       "  0.000880195   6.03795e-5   39.0  48.0\n",
       " -0.00127769   -0.000349448  32.0  43.0\n",
       " -0.00193883   -0.00068754   23.0  43.0\n",
       " -0.000533283  -0.000279268  21.0  36.0\n",
       "  0.000371439  -0.000265056  12.0  27.0\n",
       "  0.000657006   2.7179e-5    11.0  32.0"
      ]
     },
     "execution_count": 15,
     "metadata": {},
     "output_type": "execute_result"
    }
   ],
   "source": [
    "z = srproj(m,counts,1,1)"
   ]
  },
  {
   "cell_type": "markdown",
   "metadata": {},
   "source": [
    "Here, the first column is the SR projection from the model for positive counts, the second is the the SR projection from the model for hurdle crossing (zeros), the third is the total count for each count in excess of 1 and the last column is the total number of nonzero counts."
   ]
  },
  {
   "cell_type": "markdown",
   "metadata": {},
   "source": [
    "## Counts Inverse Regression (CIR)\n",
    "\n",
    "Counts inverse regression allows us to predict a covariate with the counts and other covariates.\n",
    "Here we use hdmr for the backward regression and another model for the forward regression to predict the excess market return `Rem`.\n",
    "This can be accomplished with a single command, by fitting a `CIR{HDMR,FM}` where the forward model is some `FM <: RegressionModel` supported by the `GLM` package.\n",
    "\n",
    "This time we'll fit a slightly more interesting model that also conditions on the president speaking."
   ]
  },
  {
   "cell_type": "code",
   "execution_count": 16,
   "metadata": {
    "scrolled": true
   },
   "outputs": [
    {
     "name": "stderr",
     "output_type": "stream",
     "text": [
      "┌ Info: fitting 92 observations on 163 categories \n",
      "│ 16 covariates for positive and 16 for zero counts\n",
      "└ @ HurdleDMR /home/user/.julia/packages/HurdleDMR/zD6G8/src/hdmr.jl:498\n",
      "┌ Info: distributed InclusionRepetition run on local cluster with 4 nodes\n",
      "└ @ HurdleDMR /home/user/.julia/packages/HurdleDMR/zD6G8/src/hdmr.jl:511\n"
     ]
    },
    {
     "data": {
      "text/plain": [
       "TableCountsRegressionModel{CIR{HDMR,LinearModel},DataFrame,SparseMatrixCSC{Int64,Int64}}\n",
       "\n",
       "2-part model: [h ~ President + Rem, c ~ President + Rem]\n",
       "\n",
       "Forward model coefficients for predicting Rem:\n",
       "─────────────────────────────────────────────────────────────────────────────────────────────────────────\n",
       "                                         Coef.    Std. Error      t  Pr(>|t|)    Lower 95%      Upper 95%\n",
       "─────────────────────────────────────────────────────────────────────────────────────────────────────────\n",
       "(Intercept)                         17.4837       11.3688      1.54    0.1285    -5.17963      40.147\n",
       "President: Calvin Coolidge          13.0088       13.4688      0.97    0.3374   -13.8407       39.8584\n",
       "President: Donald J. Trump          -2.14014      11.22       -0.19    0.8493   -24.5069       20.2266\n",
       "President: Dwight D. Eisenhower    -10.4126        8.31052    -1.25    0.2143   -26.9793        6.15409\n",
       "President: Franklin D. Roosevelt    -6.29263       9.24355    -0.68    0.4982   -24.7193       12.134\n",
       "President: George H.W. Bush        -22.2441       11.175      -1.99    0.0503   -44.5211        0.0329016\n",
       "President: George W. Bush          -20.2675        8.51922    -2.38    0.0200   -37.2502       -3.28473\n",
       "President: Gerald R. Ford           -5.36949      11.0539     -0.49    0.6286   -27.4051       16.6662\n",
       "President: Harry S. Truman          -9.36385       8.82709    -1.06    0.2923   -26.9603        8.23263\n",
       "President: Herbert Hoover          -36.1278       10.9276     -3.31    0.0015   -57.9116      -14.3439\n",
       "President: Jimmy Carter            -14.2189       10.3702     -1.37    0.1746   -34.8916        6.45379\n",
       "President: John F. Kennedy         -18.4067       11.4176     -1.61    0.1113   -41.1672        4.35383\n",
       "President: Lyndon B. Johnson       -18.0297        9.02763    -2.00    0.0496   -36.026        -0.0335\n",
       "President: Richard Nixon           -33.7795        9.89593    -3.41    0.0011   -53.5067      -14.0523\n",
       "President: Ronald Reagan           -16.7344        8.7381     -1.92    0.0595   -34.1535        0.684648\n",
       "President: William J. Clinton       -3.09842       8.2069     -0.38    0.7069   -19.4586       13.2617\n",
       "zpos                               477.131       327.085       1.46    0.1490  -174.901      1129.16\n",
       "zzero                             9002.65       2147.99        4.19    <1e-4   4720.72      13284.6\n",
       "m                                   -0.0506128     0.0478887  -1.06    0.2941    -0.146077      0.0448514\n",
       "ℓ                                    0.0367347     0.257807    0.14    0.8871    -0.477194      0.550663\n",
       "─────────────────────────────────────────────────────────────────────────────────────────────────────────"
      ]
     },
     "execution_count": 16,
     "metadata": {},
     "output_type": "execute_result"
    }
   ],
   "source": [
    "mf = @model(h ~ President + Rem, c ~ President + Rem)\n",
    "cir = fit(CIR{HDMR,LinearModel}, mf, covarsdf, counts, \"Rem\"; nocounts=true)"
   ]
  },
  {
   "cell_type": "markdown",
   "metadata": {},
   "source": [
    "Here, ```nocounts=true``` means we also fit a benchmark model without counts.\n",
    "The last few coefficients are due to text data.\n",
    "`zpos` is the SR projection summarizing the information in repeated use of terms.\n",
    "`zzero` is the SR projection summarizing the information in term inclusion.\n",
    "`m` is the total number of excess counts.\n",
    "`ℓ` is the total number of nonzero counts.\n",
    "\n",
    "We can get the forward and backward model coefficients with"
   ]
  },
  {
   "cell_type": "code",
   "execution_count": 17,
   "metadata": {},
   "outputs": [
    {
     "data": {
      "text/plain": [
       "([-7.505779153456341 -3.282723357305929 … 0.0 -3.8422495598493; 0.0 0.0 … 0.0 0.0; … ; 0.0 0.0 … 0.0 0.0; 0.0 0.0 … 0.0 0.007227242879000873], [-0.5918418471274728 2.2627069688748356 … 0.0 1.182793857457826; 0.0 -4.757435052354321 … 0.0 0.9190527309128335; … ; 0.0 -6.302814646916909 … 0.0 -0.6656455871872498; 0.0 0.0 … 0.0 0.0])"
      ]
     },
     "execution_count": 17,
     "metadata": {},
     "output_type": "execute_result"
    }
   ],
   "source": [
    "coefbwd(cir)"
   ]
  },
  {
   "cell_type": "code",
   "execution_count": 18,
   "metadata": {},
   "outputs": [
    {
     "data": {
      "text/plain": [
       "20-element Array{Float64,1}:\n",
       "   17.483687817158042\n",
       "   13.008842271887312\n",
       "   -2.1401445040275067\n",
       "  -10.412622758329546\n",
       "   -6.292626984306372\n",
       "  -22.244123896283437\n",
       "  -20.267477805867564\n",
       "   -5.369486999860684\n",
       "   -9.363847848691456\n",
       "  -36.127771366622326\n",
       "  -14.21891660087452\n",
       "  -18.406686103312907\n",
       "  -18.029749370757116\n",
       "  -33.779498729871115\n",
       "  -16.734437100226316\n",
       "   -3.09841665796032\n",
       "  477.13098745954227\n",
       " 9002.652906112522\n",
       "   -0.05061284356059193\n",
       "    0.03673465672186445"
      ]
     },
     "execution_count": 18,
     "metadata": {},
     "output_type": "execute_result"
    }
   ],
   "source": [
    "coeffwd(cir)"
   ]
  },
  {
   "cell_type": "markdown",
   "metadata": {},
   "source": [
    "The fitted model can be used to predict `Rem` with new data. Here we reuse the first 10 observations."
   ]
  },
  {
   "cell_type": "code",
   "execution_count": 19,
   "metadata": {},
   "outputs": [
    {
     "data": {
      "text/plain": [
       "10-element Array{Union{Missing, Float64},1}:\n",
       "  35.01327624412601\n",
       "  29.846723755873985\n",
       " -21.60376552127853\n",
       " -24.869433502443925\n",
       " -33.695746592945596\n",
       " -25.101054383331906\n",
       "  11.735827128269902\n",
       "  19.331781366167014\n",
       "  17.275545003481156\n",
       "  10.8159318912295"
      ]
     },
     "execution_count": 19,
     "metadata": {},
     "output_type": "execute_result"
    }
   ],
   "source": [
    "yhat = HurdleDMR.predict(cir, covarsdf[1:10,:], counts[1:10,:])"
   ]
  },
  {
   "cell_type": "markdown",
   "metadata": {},
   "source": [
    "We can also predict only with the other covariates, which in this case\n",
    "is just a linear regression"
   ]
  },
  {
   "cell_type": "code",
   "execution_count": 20,
   "metadata": {},
   "outputs": [
    {
     "data": {
      "text/plain": [
       "10-element Array{Union{Missing, Float64},1}:\n",
       "  32.43000000000001\n",
       "  32.43000000000001\n",
       " -26.317499999999995\n",
       " -26.317499999999995\n",
       " -26.317499999999995\n",
       " -26.317499999999995\n",
       "  13.509166666666667\n",
       "  13.509166666666667\n",
       "  13.509166666666667\n",
       "  13.509166666666667"
      ]
     },
     "execution_count": 20,
     "metadata": {},
     "output_type": "execute_result"
    }
   ],
   "source": [
    "yhat_nocounts = HurdleDMR.predict(cir, covarsdf[1:10,:], counts[1:10,:]; nocounts=true)"
   ]
  },
  {
   "cell_type": "markdown",
   "metadata": {},
   "source": [
    "Kelly, Manela, and Moreira (2021) show that the differences between DMR and HDMR can be substantial in some cases, especially when the counts data is highly sparse.\n",
    "\n",
    "Please reference the paper for additional details and example applications."
   ]
  }
 ],
 "metadata": {
  "@webio": {
   "lastCommId": null,
   "lastKernelId": null
  },
  "kernelspec": {
   "display_name": "Julia 1.5.3",
   "language": "julia",
   "name": "julia-1.5"
  },
  "language_info": {
   "name": "julia",
   "version": ""
  }
 },
 "nbformat": 4,
 "nbformat_minor": 2
}